{
 "cells": [
  {
   "cell_type": "markdown",
   "metadata": {},
   "source": [
    "# 1) Creating 3 txt files using Random and Names\n",
    "\n",
    "Rather than creating our employees / hours / rates txt files manually, why don't we get Python to randomly generate everything for us?"
   ]
  },
  {
   "cell_type": "code",
   "execution_count": 1,
   "metadata": {},
   "outputs": [],
   "source": [
    "# we need to install the Names library first\n",
    "# !pip install names\n",
    "\n",
    "# these are the libraries we will be working with\n",
    "import names\n",
    "import random\n",
    "import string\n",
    "import pandas as pd"
   ]
  },
  {
   "cell_type": "markdown",
   "metadata": {},
   "source": [
    "# Txt file 1: employees.txt\n",
    "\n",
    "Using the Random and Names library, we're going to create a dataframe that contains all the informations required for the employees.txt file, then remove its header and save the file locally."
   ]
  },
  {
   "cell_type": "code",
   "execution_count": 2,
   "metadata": {},
   "outputs": [
    {
     "name": "stdout",
     "output_type": "stream",
     "text": [
      "Name: Lucien Aguilar\n",
      "Staff ID: 4920Q\n",
      "PPS: 9321740D\n",
      "Hourly wage: 15.17\n"
     ]
    }
   ],
   "source": [
    "# let's try and see how our names generator works\n",
    "my_rand_name = names.get_full_name()\n",
    "\n",
    "# according to the official documentation. Random can't generate letters. \n",
    "# But we need a letter for our PPS number! Let's be clever :)\n",
    "my_alphabet = list(string.ascii_uppercase)\n",
    "\n",
    "# we can now randomly pick any letter from the alphabet\n",
    "my_rand_letter = random.choice(my_alphabet)\n",
    "\n",
    "# now, onto our random employee IDs\n",
    "my_rand_id = str(random.randint(1000,9999)) + random.choice(my_alphabet)\n",
    "\n",
    "# for the hourly salary, any float between 12.0 and 20.0 will do\n",
    "my_rand_salary = round(random.uniform(12, 20), 2)\n",
    "\n",
    "# finally, let's print everything\n",
    "print('Name:', names.get_full_name())\n",
    "print('Staff ID:', str(random.randint(1000,9999)) + random.choice(my_alphabet))\n",
    "print('PPS:', str(random.randint(1000000,9999999)) + random.choice(my_alphabet))\n",
    "print('Hourly wage:', round(random.uniform(12, 20), 2))"
   ]
  },
  {
   "cell_type": "code",
   "execution_count": 3,
   "metadata": {},
   "outputs": [],
   "source": [
    "# we can now create a simple function that will generate lists, add dictionary keys to these lists, and pass\n",
    "# the whole thing into a Pandas dataframe\n",
    "def make_employeesdataframe(howmany):\n",
    "    my_employees, my_id, my_hours, my_salary, my_pps = [],[],[],[],[]\n",
    "    for r in range(howmany):\n",
    "        my_employees.append( names.get_full_name() )\n",
    "    for r in range(howmany):\n",
    "        my_id.append( str(random.randint(1000,9999)) + random.choice(my_alphabet) )\n",
    "    for r in range(howmany):\n",
    "        my_hours.append( str(8) )\n",
    "    for r in range(howmany):\n",
    "        my_salary.append( round(random.uniform(12, 30), 2) )\n",
    "    for r in range(howmany):\n",
    "        my_pps.append( str(random.randint(1000000,9999999)) + random.choice(my_alphabet) )\n",
    "    my_columns = {'name': my_employees, 'id': my_id, 'pps': my_pps, 'hours': my_hours, 'hourly_rate': my_salary}\n",
    "    df = pd.DataFrame(my_columns)\n",
    "    return df"
   ]
  },
  {
   "cell_type": "code",
   "execution_count": 61,
   "metadata": {},
   "outputs": [
    {
     "data": {
      "text/html": [
       "<div>\n",
       "<style scoped>\n",
       "    .dataframe tbody tr th:only-of-type {\n",
       "        vertical-align: middle;\n",
       "    }\n",
       "\n",
       "    .dataframe tbody tr th {\n",
       "        vertical-align: top;\n",
       "    }\n",
       "\n",
       "    .dataframe thead th {\n",
       "        text-align: right;\n",
       "    }\n",
       "</style>\n",
       "<table border=\"1\" class=\"dataframe\">\n",
       "  <thead>\n",
       "    <tr style=\"text-align: right;\">\n",
       "      <th></th>\n",
       "      <th>name</th>\n",
       "      <th>id</th>\n",
       "      <th>pps</th>\n",
       "      <th>hours</th>\n",
       "      <th>hourly_rate</th>\n",
       "    </tr>\n",
       "  </thead>\n",
       "  <tbody>\n",
       "    <tr>\n",
       "      <th>0</th>\n",
       "      <td>Alex Hersey</td>\n",
       "      <td>5822K</td>\n",
       "      <td>4047329T</td>\n",
       "      <td>8</td>\n",
       "      <td>24.93</td>\n",
       "    </tr>\n",
       "    <tr>\n",
       "      <th>1</th>\n",
       "      <td>James Manteca</td>\n",
       "      <td>4356K</td>\n",
       "      <td>3739507P</td>\n",
       "      <td>8</td>\n",
       "      <td>23.07</td>\n",
       "    </tr>\n",
       "    <tr>\n",
       "      <th>2</th>\n",
       "      <td>Levi Barrett</td>\n",
       "      <td>6027H</td>\n",
       "      <td>7902182X</td>\n",
       "      <td>8</td>\n",
       "      <td>14.00</td>\n",
       "    </tr>\n",
       "    <tr>\n",
       "      <th>3</th>\n",
       "      <td>Virginia Covarrubias</td>\n",
       "      <td>7069X</td>\n",
       "      <td>1087436W</td>\n",
       "      <td>8</td>\n",
       "      <td>18.53</td>\n",
       "    </tr>\n",
       "    <tr>\n",
       "      <th>4</th>\n",
       "      <td>Kimberly Lenz</td>\n",
       "      <td>2020J</td>\n",
       "      <td>4723359H</td>\n",
       "      <td>8</td>\n",
       "      <td>22.99</td>\n",
       "    </tr>\n",
       "  </tbody>\n",
       "</table>\n",
       "</div>"
      ],
      "text/plain": [
       "                   name     id       pps hours  hourly_rate\n",
       "0           Alex Hersey  5822K  4047329T     8        24.93\n",
       "1         James Manteca  4356K  3739507P     8        23.07\n",
       "2          Levi Barrett  6027H  7902182X     8        14.00\n",
       "3  Virginia Covarrubias  7069X  1087436W     8        18.53\n",
       "4         Kimberly Lenz  2020J  4723359H     8        22.99"
      ]
     },
     "execution_count": 61,
     "metadata": {},
     "output_type": "execute_result"
    }
   ],
   "source": [
    "# creating data for 50 employees\n",
    "df = make_employeesdataframe(51)\n",
    "\n",
    "# making sure it worked\n",
    "df.head(5)"
   ]
  },
  {
   "cell_type": "code",
   "execution_count": 62,
   "metadata": {},
   "outputs": [
    {
     "data": {
      "text/html": [
       "<div>\n",
       "<style scoped>\n",
       "    .dataframe tbody tr th:only-of-type {\n",
       "        vertical-align: middle;\n",
       "    }\n",
       "\n",
       "    .dataframe tbody tr th {\n",
       "        vertical-align: top;\n",
       "    }\n",
       "\n",
       "    .dataframe thead th {\n",
       "        text-align: right;\n",
       "    }\n",
       "</style>\n",
       "<table border=\"1\" class=\"dataframe\">\n",
       "  <thead>\n",
       "    <tr style=\"text-align: right;\">\n",
       "      <th></th>\n",
       "      <th>first_name</th>\n",
       "      <th>last_name</th>\n",
       "      <th>id</th>\n",
       "      <th>pps</th>\n",
       "      <th>hours</th>\n",
       "      <th>hourly_rate</th>\n",
       "      <th>overtime_rate</th>\n",
       "      <th>tax_credit</th>\n",
       "      <th>standard_band</th>\n",
       "    </tr>\n",
       "  </thead>\n",
       "  <tbody>\n",
       "    <tr>\n",
       "      <th>48</th>\n",
       "      <td>Charlotte</td>\n",
       "      <td>Gehl</td>\n",
       "      <td>4403A</td>\n",
       "      <td>1694447E</td>\n",
       "      <td>8</td>\n",
       "      <td>15.50</td>\n",
       "      <td>20.15</td>\n",
       "      <td>1.550</td>\n",
       "      <td>20</td>\n",
       "    </tr>\n",
       "    <tr>\n",
       "      <th>7</th>\n",
       "      <td>Joshua</td>\n",
       "      <td>Pollard</td>\n",
       "      <td>6312J</td>\n",
       "      <td>8014357I</td>\n",
       "      <td>8</td>\n",
       "      <td>17.99</td>\n",
       "      <td>23.39</td>\n",
       "      <td>1.799</td>\n",
       "      <td>20</td>\n",
       "    </tr>\n",
       "    <tr>\n",
       "      <th>4</th>\n",
       "      <td>Kimberly</td>\n",
       "      <td>Lenz</td>\n",
       "      <td>2020J</td>\n",
       "      <td>4723359H</td>\n",
       "      <td>8</td>\n",
       "      <td>22.99</td>\n",
       "      <td>29.89</td>\n",
       "      <td>2.299</td>\n",
       "      <td>20</td>\n",
       "    </tr>\n",
       "  </tbody>\n",
       "</table>\n",
       "</div>"
      ],
      "text/plain": [
       "   first_name last_name     id       pps hours  hourly_rate  overtime_rate  \\\n",
       "48  Charlotte      Gehl  4403A  1694447E     8        15.50          20.15   \n",
       "7      Joshua   Pollard  6312J  8014357I     8        17.99          23.39   \n",
       "4    Kimberly      Lenz  2020J  4723359H     8        22.99          29.89   \n",
       "\n",
       "    tax_credit  standard_band  \n",
       "48       1.550             20  \n",
       "7        1.799             20  \n",
       "4        2.299             20  "
      ]
     },
     "execution_count": 62,
     "metadata": {},
     "output_type": "execute_result"
    }
   ],
   "source": [
    "# before we save our dataframe into a txt file, we have to split our name serie into first name and last name\n",
    "df['first_name'] = df['name'].apply(lambda x: x.split(' ')[0])\n",
    "\n",
    "# same for our last name, this time in second position, so [1]\n",
    "df['last_name'] = df['name'].apply(lambda x: x.split(' ')[1])\n",
    "\n",
    "# we can now drop our old 'name' serie, using axis=1\n",
    "# https://pandas.pydata.org/pandas-docs/stable/reference/api/pandas.DataFrame.drop.html\n",
    "df = df.drop(['name'], axis=1)\n",
    "\n",
    "# and now onto our overtime salary. Let's be generous: it's to be +30& of our base hourly income\n",
    "df['overtime_rate'] = df['hourly_rate'].apply(lambda x: x * 1.3)\n",
    "df['overtime_rate'] = df['overtime_rate'].apply(lambda x: round(x, 2))\n",
    "\n",
    "# to be honest, I don't understand this tax credit / band stuff\n",
    "# so I'll just base myself on the folling link, sorry if it makes zero sense\n",
    "# https://www.irishjobs.ie/careeradvice/understanding-your-payslip/\n",
    "\n",
    "# they say that the tax credit is a % of your income. I'll go for 10%\n",
    "df['tax_credit'] = df['hourly_rate'].apply(lambda x: (x /100) * 10 )\n",
    "# standard band is the tax bracket, right? Above this, employees are taxed more. We'll set it at 20/h\n",
    "df['standard_band'] = 20\n",
    "\n",
    "# last thing, Paul wants the txt file to be in a specific order\n",
    "my_columns = ['first_name', 'last_name', 'id', 'pps', 'hours', 'hourly_rate', 'overtime_rate', 'tax_credit', 'standard_band']\n",
    "df = df.reindex(columns=my_columns)\n",
    "\n",
    "# showing our cleaned dataframe\n",
    "df.sample(3)"
   ]
  },
  {
   "cell_type": "code",
   "execution_count": 64,
   "metadata": {},
   "outputs": [],
   "source": [
    "\"\"\"\n",
    "And finally, saving the df as a txt file. I struggled a bit for this, but found help here:\n",
    "# https://pandas.pydata.org/pandas-docs/stable/reference/api/pandas.DataFrame.to_string.html\n",
    "# https://stackoverflow.com/questions/51829923/write-a-pandas-dataframe-to-a-txt-file\n",
    "\n",
    "Something quite interesting: when using df.to_string I got some weird spacing issues, and my txt file\n",
    "would end up completely messed up. It seems that the best solution is to stick to df.to_csv and most \n",
    "importantly to keep the index (which I had originally removed using index=False)\n",
    "\"\"\"\n",
    "\n",
    "df.to_csv('employees.txt', header=True, index=False, sep=' ')"
   ]
  },
  {
   "cell_type": "markdown",
   "metadata": {},
   "source": [
    "# Text file 2: hours.txt\n",
    "\n",
    "This is going to be much more straightforward. We're going to use Pandas' date_range() function, and then convert the datetime series to Y=M-D format, as date_range() by default adds hours (0), minutes (0), and seconds (0). The cool thing here is, we can generate a dataframe that is within any time range that we want to, as we can set up our starting and ending dates."
   ]
  },
  {
   "cell_type": "code",
   "execution_count": 12,
   "metadata": {},
   "outputs": [
    {
     "data": {
      "text/html": [
       "<div>\n",
       "<style scoped>\n",
       "    .dataframe tbody tr th:only-of-type {\n",
       "        vertical-align: middle;\n",
       "    }\n",
       "\n",
       "    .dataframe tbody tr th {\n",
       "        vertical-align: top;\n",
       "    }\n",
       "\n",
       "    .dataframe thead th {\n",
       "        text-align: right;\n",
       "    }\n",
       "</style>\n",
       "<table border=\"1\" class=\"dataframe\">\n",
       "  <thead>\n",
       "    <tr style=\"text-align: right;\">\n",
       "      <th></th>\n",
       "      <th>date</th>\n",
       "      <th>hours</th>\n",
       "    </tr>\n",
       "  </thead>\n",
       "  <tbody>\n",
       "    <tr>\n",
       "      <th>0</th>\n",
       "      <td>2020-10-01</td>\n",
       "      <td>8</td>\n",
       "    </tr>\n",
       "    <tr>\n",
       "      <th>1</th>\n",
       "      <td>2020-10-02</td>\n",
       "      <td>8</td>\n",
       "    </tr>\n",
       "    <tr>\n",
       "      <th>2</th>\n",
       "      <td>2020-10-03</td>\n",
       "      <td>8</td>\n",
       "    </tr>\n",
       "  </tbody>\n",
       "</table>\n",
       "</div>"
      ],
      "text/plain": [
       "         date  hours\n",
       "0  2020-10-01      8\n",
       "1  2020-10-02      8\n",
       "2  2020-10-03      8"
      ]
     },
     "execution_count": 12,
     "metadata": {},
     "output_type": "execute_result"
    }
   ],
   "source": [
    "# defining a very simple function that creates a Pandas dataframe. Setting the default worked hours to 8\n",
    "def make_hoursdataframe(my_start, my_end):\n",
    "    my_dates = pd.date_range(start=my_start, end=my_end)\n",
    "    my_dict = {'date': my_dates}\n",
    "    df_hours = pd.DataFrame(my_dict)\n",
    "    df_hours['hours'] = 8\n",
    "    df_hours['date'] = df_hours.date.map(lambda x: x.strftime('%Y-%m-%d'))\n",
    "    return df_hours\n",
    "\n",
    "# creating our dataframe\n",
    "df_hours = make_hoursdataframe('10/1/2020', '11/30/2020')\n",
    "\n",
    "# making sure it all worked\n",
    "df_hours.head(3)"
   ]
  },
  {
   "cell_type": "code",
   "execution_count": 13,
   "metadata": {},
   "outputs": [],
   "source": [
    "# same process as above, when we created our employees.txt file\n",
    "df_hours.to_csv('hours.txt', header=True, index=False, sep=' ')"
   ]
  },
  {
   "cell_type": "markdown",
   "metadata": {},
   "source": [
    "# Text file 2: taxrates.txt\n",
    "\n",
    "Ok, I guess I'll have to be very honest here: I don't understand how this whole things work. I guess I should actually be a little bit more aware of how the whole tax system is structured, as I've been working here for over 10 years now.\n",
    "\n",
    "Anyway, I'll use the official [citizen information website](https://www.citizensinformation.ie/en/money_and_tax/tax/income_tax_credits_and_reliefs/introduction_to_income_tax_credits_and_reliefs.html) as a source for this."
   ]
  },
  {
   "cell_type": "code",
   "execution_count": 14,
   "metadata": {},
   "outputs": [
    {
     "data": {
      "text/html": [
       "<div>\n",
       "<style scoped>\n",
       "    .dataframe tbody tr th:only-of-type {\n",
       "        vertical-align: middle;\n",
       "    }\n",
       "\n",
       "    .dataframe tbody tr th {\n",
       "        vertical-align: top;\n",
       "    }\n",
       "\n",
       "    .dataframe thead th {\n",
       "        text-align: right;\n",
       "    }\n",
       "</style>\n",
       "<table border=\"1\" class=\"dataframe\">\n",
       "  <thead>\n",
       "    <tr style=\"text-align: right;\">\n",
       "      <th></th>\n",
       "      <th>standard_rate</th>\n",
       "      <th>higher_rate</th>\n",
       "      <th>hours</th>\n",
       "    </tr>\n",
       "  </thead>\n",
       "  <tbody>\n",
       "    <tr>\n",
       "      <th>0</th>\n",
       "      <td>20</td>\n",
       "      <td>40</td>\n",
       "      <td>8</td>\n",
       "    </tr>\n",
       "  </tbody>\n",
       "</table>\n",
       "</div>"
      ],
      "text/plain": [
       "   standard_rate  higher_rate  hours\n",
       "0             20           40      8"
      ]
     },
     "execution_count": 14,
     "metadata": {},
     "output_type": "execute_result"
    }
   ],
   "source": [
    "# third and last tine, let's create a dataframe building function!\n",
    "def make_taxdataframe(working_hours):\n",
    "    my_x, my_y = [20],[40]\n",
    "    my_dict = {'standard_rate': my_x, 'higher_rate': my_y, 'hours': working_hours}\n",
    "    df_tax = pd.DataFrame(my_dict)\n",
    "    return df_tax\n",
    "\n",
    "# creating this single row dataframe\n",
    "df_tax = make_taxdataframe([8])\n",
    "df_tax"
   ]
  },
  {
   "cell_type": "code",
   "execution_count": 15,
   "metadata": {},
   "outputs": [],
   "source": [
    "# and that's our third and last txt file!\n",
    "# same process as above, when we created our employees.txt file\n",
    "df_tax.to_csv('taxrates.txt', header=True, index=False, sep=' ')"
   ]
  },
  {
   "cell_type": "markdown",
   "metadata": {},
   "source": [
    "# 2) Getting our CA done\n",
    "Loading our freshly created txt files, and creating our payslips!"
   ]
  },
  {
   "cell_type": "code",
   "execution_count": 1,
   "metadata": {},
   "outputs": [],
   "source": [
    "# importing our main module, in case we're doing this second step independantly from the first one\n",
    "import pandas as pd"
   ]
  },
  {
   "cell_type": "code",
   "execution_count": 2,
   "metadata": {},
   "outputs": [],
   "source": [
    "# as weird as it seems, Pandas seems to read txt files through its read_csv function\n",
    "# https://pandas.pydata.org/pandas-docs/stable/user_guide/io.html\n",
    "df_employees = pd.read_csv('employees.txt', sep=' ')\n",
    "# adding in a full name series, as several people might share the same first or last name, right?\n",
    "df_employees['full_name'] = df_employees['first_name'] + ' ' + df_employees['last_name']\n",
    "\n",
    "# next, let's load our hours.txt file. Same process, different dataframe name\n",
    "df_hours = pd.read_csv('hours.txt', sep=' ')\n",
    "\n",
    "# last but not least, here comes our taxrates.txt file\n",
    "df_tax = pd.read_csv('taxrates.txt', sep=' ')"
   ]
  },
  {
   "cell_type": "code",
   "execution_count": 79,
   "metadata": {},
   "outputs": [
    {
     "data": {
      "text/html": [
       "<div>\n",
       "<style scoped>\n",
       "    .dataframe tbody tr th:only-of-type {\n",
       "        vertical-align: middle;\n",
       "    }\n",
       "\n",
       "    .dataframe tbody tr th {\n",
       "        vertical-align: top;\n",
       "    }\n",
       "\n",
       "    .dataframe thead th {\n",
       "        text-align: right;\n",
       "    }\n",
       "</style>\n",
       "<table border=\"1\" class=\"dataframe\">\n",
       "  <thead>\n",
       "    <tr style=\"text-align: right;\">\n",
       "      <th></th>\n",
       "      <th>first_name</th>\n",
       "      <th>last_name</th>\n",
       "      <th>id</th>\n",
       "      <th>pps</th>\n",
       "      <th>hours</th>\n",
       "      <th>hourly_rate</th>\n",
       "      <th>overtime_rate</th>\n",
       "      <th>tax_credit</th>\n",
       "      <th>standard_band</th>\n",
       "      <th>full_name</th>\n",
       "    </tr>\n",
       "  </thead>\n",
       "  <tbody>\n",
       "    <tr>\n",
       "      <th>39</th>\n",
       "      <td>John</td>\n",
       "      <td>Carter</td>\n",
       "      <td>7122M</td>\n",
       "      <td>7856007B</td>\n",
       "      <td>8</td>\n",
       "      <td>18.8</td>\n",
       "      <td>24.44</td>\n",
       "      <td>1.88</td>\n",
       "      <td>20</td>\n",
       "      <td>John Carter</td>\n",
       "    </tr>\n",
       "  </tbody>\n",
       "</table>\n",
       "</div>"
      ],
      "text/plain": [
       "   first_name last_name     id       pps  hours  hourly_rate  overtime_rate  \\\n",
       "39       John    Carter  7122M  7856007B      8         18.8          24.44   \n",
       "\n",
       "    tax_credit  standard_band    full_name  \n",
       "39        1.88             20  John Carter  "
      ]
     },
     "execution_count": 79,
     "metadata": {},
     "output_type": "execute_result"
    }
   ],
   "source": [
    "# getting a random employee mame, for our function below\n",
    "df_employees.sample(1)"
   ]
  },
  {
   "cell_type": "markdown",
   "metadata": {},
   "source": [
    "# Function description:\n",
    "\n",
    "Something worth mentioning here: in Pandas, we don't need to specify the name of the columns that\n",
    "we are doing our join on, unless they have different names.\n",
    "\n",
    "Here, both our txt files have a column named 'hours' and contain the exact same value: 8"
   ]
  },
  {
   "cell_type": "code",
   "execution_count": 77,
   "metadata": {},
   "outputs": [],
   "source": [
    "def make_payslip(employee_name, start_date, end_date):\n",
    "    # pandas dataframe level\n",
    "    df_refinedhours = df_hours.loc[ (df_hours['date'] > start_date) & (df_hours['date'] < end_date) ]\n",
    "    df_temp = df_employees.loc[ df_employees['full_name'] == employee_name]\n",
    "    df_temp = pd.merge(df_temp, df_refinedhours)\n",
    "    df_temp = pd.merge(df_temp, df_tax)\n",
    "    # pandas series level\n",
    "    df_temp['overtime_worked'] = df_temp['hours'].apply(lambda x: x-8 if x > 8 else 0)\n",
    "    df_temp['total_regular'] = df_temp['hours'] * df_temp['hourly_rate']\n",
    "    df_temp['total_overtime'] = df_temp['overtime_worked'] * df_temp['overtime_rate']\n",
    "    df_temp['date'] = pd.to_datetime(df_temp['date'])\n",
    "    df_temp['day_name'] = df_temp['date'].dt.day_name()\n",
    "    df_temp['month_name'] = df_temp['date'].dt.month_name()\n",
    "    # pandas data wrangling\n",
    "    my_groupby_regular = df_temp.groupby(['full_name','month_name','hourly_rate'], as_index=False).agg({'date': 'count', 'hours':'sum', 'total_regular':'sum'})\n",
    "    my_groupby_overtime = df_temp.groupby(['full_name','month_name', 'overtime_rate'], as_index=False).agg({'overtime_worked':'sum', 'total_overtime':'sum'})\n",
    "    my_grosspay = (df_temp.total_regular.sum() + df_temp.total_overtime.sum()).round(4)\n",
    "    total_standardtaxes = (((sum(df_temp.hours) * df_temp.at[0, 'hourly_rate']) / 100) * df_temp.at[0, 'standard_rate']) if (df_temp.at[0, 'hourly_rate'] <= df_temp.at[0, 'standard_rate']) else 0\n",
    "    total_highertaxes = (((sum(df_temp.hours) * df_temp.at[0, 'hourly_rate']) / 100) * df_temp.at[0, 'higher_rate']) if (df_temp.at[0, 'hourly_rate'] > df_temp.at[0, 'standard_rate']) else 0\n",
    "    my_taxcredit = round(df_temp.tax_credit.sum())\n",
    "    # printing everything together\n",
    "    print('######################################################')\n",
    "    print('Staff ID:', df_temp.at[0, 'id'] )\n",
    "    print('Staff name:', df_temp.at[0, 'full_name'])\n",
    "    print('PPS:', df_temp.at[0, 'pps'])\n",
    "    print('Date range for this payslip:', 'from', df_temp.date.dt.date.min(), 'to', df_temp.date.dt.date.max())\n",
    "    print('######################################################')\n",
    "    print('Regular')\n",
    "    print(my_groupby_regular)\n",
    "    print('Overtime (if applies)')\n",
    "    print(my_groupby_overtime)\n",
    "    print('######################################################')\n",
    "    print('Gross pay:', my_grosspay)\n",
    "    print('######################################################')\n",
    "    print('Standard band (if applies):', total_standardtaxes)\n",
    "    print('Higher rate (if applies):', total_highertaxes)\n",
    "    print('Total deductions:', total_standardtaxes + total_highertaxes)\n",
    "    print('Tax credit:', my_taxcredit)\n",
    "    print('Net deductions:', (total_standardtaxes + total_highertaxes) - my_taxcredit)\n",
    "    print('######################################################')\n",
    "    print('Net pay:', my_grosspay - ((total_standardtaxes + total_highertaxes) - my_taxcredit) )\n",
    "    print('######################################################')"
   ]
  },
  {
   "cell_type": "code",
   "execution_count": 81,
   "metadata": {},
   "outputs": [
    {
     "name": "stdout",
     "output_type": "stream",
     "text": [
      "######################################################\n",
      "Staff ID: 7122M\n",
      "Staff name: John Carter\n",
      "PPS: 7856007B\n",
      "Date range for this payslip: from 2020-10-02 to 2020-11-01\n",
      "######################################################\n",
      "Regular\n",
      "     full_name month_name  hourly_rate  date  hours  total_regular\n",
      "0  John Carter   November         18.8     1      8          150.4\n",
      "1  John Carter    October         18.8    30    240         4512.0\n",
      "Overtime (if applies)\n",
      "     full_name month_name  overtime_rate  overtime_worked  total_overtime\n",
      "0  John Carter   November          24.44                0             0.0\n",
      "1  John Carter    October          24.44                0             0.0\n",
      "######################################################\n",
      "Gross pay: 4662.4\n",
      "######################################################\n",
      "Standard band (if applies): 932.48\n",
      "Higher rate (if applies): 0\n",
      "Total deductions: 932.48\n",
      "Tax credit: 58.0\n",
      "Net deductions: 874.48\n",
      "######################################################\n",
      "Net pay: 3787.9199999999996\n",
      "######################################################\n"
     ]
    }
   ],
   "source": [
    "make_payslip('John Carter', '2020-10-01', '2020-11-02')"
   ]
  },
  {
   "cell_type": "markdown",
   "metadata": {},
   "source": [
    "# 3) Extra 1: Having some fun with our dataframe\n",
    "\n",
    "What if we added some more series, like email addresses, age, role, etc..?\n",
    "\n",
    "To do so, we're going to create a fictional company named \"MScBizAnalyticsDBS\". What do we do? We sell paper, [of course](https://media4.giphy.com/media/5wWf7GR2nhgamhRnEuA/giphy.gif?cid=ecf05e47m5len2ftyls2jzt0l43y5msp07fskijbp23eftof&rid=giphy.gif)."
   ]
  },
  {
   "cell_type": "code",
   "execution_count": 28,
   "metadata": {},
   "outputs": [],
   "source": [
    "# we'll be needing some additional libraries for this\n",
    "import numpy as np\n",
    "from matplotlib import pyplot as plt\n",
    "import seaborn as sns"
   ]
  },
  {
   "cell_type": "code",
   "execution_count": 29,
   "metadata": {},
   "outputs": [],
   "source": [
    "# first, let's create a randomized age column, based on:\n",
    "# https://docs.scipy.org/doc/numpy-1.15.0/reference/routines.random.html\n",
    "df['age'] = np.random.randint(18, 61, df.shape[0])"
   ]
  },
  {
   "cell_type": "code",
   "execution_count": 30,
   "metadata": {},
   "outputs": [],
   "source": [
    "# next, let's assign an email address to each employee\n",
    "df['email'] = df['first_name'] + '.' + df['last_name'] +'@MScBizAnalyticsDBS.com'\n",
    "df['email'] = df['email'].apply(lambda x: x.lower())"
   ]
  },
  {
   "cell_type": "code",
   "execution_count": 32,
   "metadata": {},
   "outputs": [
    {
     "name": "stdout",
     "output_type": "stream",
     "text": [
      "Managers in this company make more than: 25.63 EUR per hour\n"
     ]
    }
   ],
   "source": [
    "# and finally, let's try and see who's doing what, based on the salary column\n",
    "\n",
    "# let's define an upper tier salary base, combining the salary mean and standard deviation\n",
    "my_upper_tier = df.salary.mean() + df.salary.std()\n",
    "print('Managers in this company make more than:', round(df.salary.mean() + df.salary.std(), 2), 'EUR per hour' )\n",
    "\n",
    "# we can now create a categorical serie, based on the simple calculation we just established\n",
    "def make_company_role(salary):\n",
    "    if salary >= my_upper_tier:\n",
    "        return 'manager'\n",
    "    else:\n",
    "        return 'employee'\n",
    "\n",
    "# applying this function to a new serie\n",
    "df['role'] = df['salary'].apply(make_company_role)"
   ]
  },
  {
   "cell_type": "code",
   "execution_count": 33,
   "metadata": {},
   "outputs": [
    {
     "data": {
      "text/html": [
       "<div>\n",
       "<style scoped>\n",
       "    .dataframe tbody tr th:only-of-type {\n",
       "        vertical-align: middle;\n",
       "    }\n",
       "\n",
       "    .dataframe tbody tr th {\n",
       "        vertical-align: top;\n",
       "    }\n",
       "\n",
       "    .dataframe thead th {\n",
       "        text-align: right;\n",
       "    }\n",
       "</style>\n",
       "<table border=\"1\" class=\"dataframe\">\n",
       "  <thead>\n",
       "    <tr style=\"text-align: right;\">\n",
       "      <th></th>\n",
       "      <th>role</th>\n",
       "      <th>salary</th>\n",
       "      <th>age</th>\n",
       "    </tr>\n",
       "  </thead>\n",
       "  <tbody>\n",
       "    <tr>\n",
       "      <th>0</th>\n",
       "      <td>employee</td>\n",
       "      <td>18.733000</td>\n",
       "      <td>41.475000</td>\n",
       "    </tr>\n",
       "    <tr>\n",
       "      <th>1</th>\n",
       "      <td>manager</td>\n",
       "      <td>27.714545</td>\n",
       "      <td>37.909091</td>\n",
       "    </tr>\n",
       "  </tbody>\n",
       "</table>\n",
       "</div>"
      ],
      "text/plain": [
       "       role     salary        age\n",
       "0  employee  18.733000  41.475000\n",
       "1   manager  27.714545  37.909091"
      ]
     },
     "execution_count": 33,
     "metadata": {},
     "output_type": "execute_result"
    }
   ],
   "source": [
    "# we can now get a grouped by overview of our company\n",
    "df.groupby('role', as_index=False).agg( {'salary': 'mean', 'age': 'mean'} )"
   ]
  },
  {
   "cell_type": "code",
   "execution_count": 99,
   "metadata": {},
   "outputs": [
    {
     "data": {
      "image/png": "[encoded data removed]",
      "text/plain": [
       "<Figure size 576x288 with 1 Axes>"
      ]
     },
     "metadata": {
      "needs_background": "light"
     },
     "output_type": "display_data"
    }
   ],
   "source": [
    "# plotting\n",
    "plt.figure(figsize=(8,4))\n",
    "sns.lineplot(df.age, df.salary)\n",
    "plt.show()"
   ]
  },
  {
   "cell_type": "markdown",
   "metadata": {},
   "source": [
    "# 4) Extra 2: Automating payslip emails"
   ]
  },
  {
   "cell_type": "code",
   "execution_count": null,
   "metadata": {},
   "outputs": [],
   "source": []
  }
 ],
 "metadata": {
  "kernelspec": {
   "display_name": "Python 3",
   "language": "python",
   "name": "python3"
  },
  "language_info": {
   "codemirror_mode": {
    "name": "ipython",
    "version": 3
   },
   "file_extension": ".py",
   "mimetype": "text/x-python",
   "name": "python",
   "nbconvert_exporter": "python",
   "pygments_lexer": "ipython3",
   "version": "3.7.6"
  }
 },
 "nbformat": 4,
 "nbformat_minor": 4
}
