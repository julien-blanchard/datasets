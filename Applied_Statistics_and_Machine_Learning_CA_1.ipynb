{
  "nbformat": 4,
  "nbformat_minor": 0,
  "metadata": {
    "colab": {
      "name": "Applied Statistics and Machine Learning: CA 1.ipynb",
      "provenance": [],
      "collapsed_sections": [
        "uIRdAkBJKj4i",
        "GUhbSfN5NDmW",
        "ozcc96T4KeT3",
        "xzNlR_rxCDqH",
        "mZIUDK_DCLmV",
        "tzX7Vsa_Oy5G"
      ]
    },
    "kernelspec": {
      "name": "python3",
      "display_name": "Python 3"
    }
  },
  "cells": [
    {
      "cell_type": "markdown",
      "metadata": {
        "id": "j72lLs_xJqfe"
      },
      "source": [
        "# **Applied Statistics and Machine Learning: CA 1**\n",
        "\n",
        "*   **Module owner**: Dr Shahram Azizi Sazi\n",
        "\n",
        "*   **Module code**: B9BA102\n",
        "\n",
        "*   **Submitted by**: Julien Blanchard\n",
        "\n",
        "*   **Dataset**: we'll be working with the \"Pokedex\" dataset ([link here](https://www.kaggle.com/netzuel/pokmon-go-dataset-15-generations)) that I found on Kaggle. This dataset contains a good mixture of categorical and numerical values. It has to be cleaned first (see the *Cleaning our data and setting up some useful functions* for more details). According to Wikipedia Pokemon games have \"*more than 368 million copies sold and one billion mobile downloads*\". Both Nintendo and the Pokemon Company claim that \"Legendary\" Pokemons are harder to catch, stronger, and therefore more expensive. Do these Pokemons have their own specficities? Are they really better than ordinary Pokemons? Can a model identify the form (legendary, ordinary) of a Pokemon basing itself on its stats only?\n",
        "\n",
        "*   **Pre-class preparation**: I purchased last December on Udemy a 43 hour long course entitled \"*Complete Machine Learning and Data Science: Zero to Mastery*\" ([link here](https://www.udemy.com/course/complete-machine-learning-and-data-science-zero-to-mastery/)) and as of October 25th 2020 I have completed 63% of it. More recently in June, I followed and completed a Python exclusive, 6 hour long machine learning tutorial on Simplilearn's YouTube channel ([link here](hhttps://www.youtube.com/watch?v=9f-GarcDY58&ab_channel=Simplilearn)).\n",
        "\n",
        "*   **References**: I have based myself on the following three books for this CA, and would highly recommend them ([picture here](https://drive.google.com/file/d/1AkdGRRexjC_sI9Wp1VUOzFO_cQwO2qo1/view?usp=sharing)):\n",
        "\n",
        "> [Data Science from Scratch](https://www.amazon.co.uk/Data-Science-Scratch-Principles-Python-ebook/dp/B07QPC8RZX/ref=sr_1_6?dchild=1&keywords=python+for+data+science&qid=1605271670&sr=8-6) by Joel Grus\n",
        "\n",
        "> [The Hundred-Page Machine Learning Book](https://www.amazon.co.uk/Hundred-Page-Machine-Learning-Book/dp/199957950X/ref=sr_1_1?dchild=1&keywords=one+hundred+page+machine&qid=1605271644&sr=8-1) by Andriy Burkov\n",
        "\n",
        "> [Machine Learning Pocket Reference](https://www.amazon.co.uk/Machine-Learning-Pocket-Reference-Structured/dp/1492047546/ref=sr_1_1?crid=30BLWH1AB4DWP&dchild=1&keywords=machine+learning+pocket+reference&qid=1605271658&sprefix=machine+learning+pock%2Caps%2C214&sr=8-1) by Matt Harrison\n",
        "\n",
        "*   **Python syntax and conventions**: All the variables in this Colab will be written following the same naming convention: \"*my_variablename*\". Whenever possible, I'll be defining functions. All these functions will be written following the same naming convention: \"*make_actionname*\"."
      ]
    },
    {
      "cell_type": "markdown",
      "metadata": {
        "id": "uIRdAkBJKj4i"
      },
      "source": [
        "# Loading our dataset and libraries"
      ]
    },
    {
      "cell_type": "code",
      "metadata": {
        "id": "OuVu786cJoeh",
        "outputId": "465855a3-dd53-49fc-a633-30e97c4ff039",
        "colab": {
          "resources": {
            "http://localhost:8080/nbextensions/google.colab/files.js": {
              "data": "Ly8gQ29weXJpZ2h0IDIwMTcgR29vZ2xlIExMQwovLwovLyBMaWNlbnNlZCB1bmRlciB0aGUgQXBhY2hlIExpY2Vuc2UsIFZlcnNpb24gMi4wICh0aGUgIkxpY2Vuc2UiKTsKLy8geW91IG1heSBub3QgdXNlIHRoaXMgZmlsZSBleGNlcHQgaW4gY29tcGxpYW5jZSB3aXRoIHRoZSBMaWNlbnNlLgovLyBZb3UgbWF5IG9idGFpbiBhIGNvcHkgb2YgdGhlIExpY2Vuc2UgYXQKLy8KLy8gICAgICBodHRwOi8vd3d3LmFwYWNoZS5vcmcvbGljZW5zZXMvTElDRU5TRS0yLjAKLy8KLy8gVW5sZXNzIHJlcXVpcmVkIGJ5IGFwcGxpY2FibGUgbGF3IG9yIGFncmVlZCB0byBpbiB3cml0aW5nLCBzb2Z0d2FyZQovLyBkaXN0cmlidXRlZCB1bmRlciB0aGUgTGljZW5zZSBpcyBkaXN0cmlidXRlZCBvbiBhbiAiQVMgSVMiIEJBU0lTLAovLyBXSVRIT1VUIFdBUlJBTlRJRVMgT1IgQ09ORElUSU9OUyBPRiBBTlkgS0lORCwgZWl0aGVyIGV4cHJlc3Mgb3IgaW1wbGllZC4KLy8gU2VlIHRoZSBMaWNlbnNlIGZvciB0aGUgc3BlY2lmaWMgbGFuZ3VhZ2UgZ292ZXJuaW5nIHBlcm1pc3Npb25zIGFuZAovLyBsaW1pdGF0aW9ucyB1bmRlciB0aGUgTGljZW5zZS4KCi8qKgogKiBAZmlsZW92ZXJ2aWV3IEhlbHBlcnMgZm9yIGdvb2dsZS5jb2xhYiBQeXRob24gbW9kdWxlLgogKi8KKGZ1bmN0aW9uKHNjb3BlKSB7CmZ1bmN0aW9uIHNwYW4odGV4dCwgc3R5bGVBdHRyaWJ1dGVzID0ge30pIHsKICBjb25zdCBlbGVtZW50ID0gZG9jdW1lbnQuY3JlYXRlRWxlbWVudCgnc3BhbicpOwogIGVsZW1lbnQudGV4dENvbnRlbnQgPSB0ZXh0OwogIGZvciAoY29uc3Qga2V5IG9mIE9iamVjdC5rZXlzKHN0eWxlQXR0cmlidXRlcykpIHsKICAgIGVsZW1lbnQuc3R5bGVba2V5XSA9IHN0eWxlQXR0cmlidXRlc1trZXldOwogIH0KICByZXR1cm4gZWxlbWVudDsKfQoKLy8gTWF4IG51bWJlciBvZiBieXRlcyB3aGljaCB3aWxsIGJlIHVwbG9hZGVkIGF0IGEgdGltZS4KY29uc3QgTUFYX1BBWUxPQURfU0laRSA9IDEwMCAqIDEwMjQ7CgpmdW5jdGlvbiBfdXBsb2FkRmlsZXMoaW5wdXRJZCwgb3V0cHV0SWQpIHsKICBjb25zdCBzdGVwcyA9IHVwbG9hZEZpbGVzU3RlcChpbnB1dElkLCBvdXRwdXRJZCk7CiAgY29uc3Qgb3V0cHV0RWxlbWVudCA9IGRvY3VtZW50LmdldEVsZW1lbnRCeUlkKG91dHB1dElkKTsKICAvLyBDYWNoZSBzdGVwcyBvbiB0aGUgb3V0cHV0RWxlbWVudCB0byBtYWtlIGl0IGF2YWlsYWJsZSBmb3IgdGhlIG5leHQgY2FsbAogIC8vIHRvIHVwbG9hZEZpbGVzQ29udGludWUgZnJvbSBQeXRob24uCiAgb3V0cHV0RWxlbWVudC5zdGVwcyA9IHN0ZXBzOwoKICByZXR1cm4gX3VwbG9hZEZpbGVzQ29udGludWUob3V0cHV0SWQpOwp9CgovLyBUaGlzIGlzIHJvdWdobHkgYW4gYXN5bmMgZ2VuZXJhdG9yIChub3Qgc3VwcG9ydGVkIGluIHRoZSBicm93c2VyIHlldCksCi8vIHdoZXJlIHRoZXJlIGFyZSBtdWx0aXBsZSBhc3luY2hyb25vdXMgc3RlcHMgYW5kIHRoZSBQeXRob24gc2lkZSBpcyBnb2luZwovLyB0byBwb2xsIGZvciBjb21wbGV0aW9uIG9mIGVhY2ggc3RlcC4KLy8gVGhpcyB1c2VzIGEgUHJvbWlzZSB0byBibG9jayB0aGUgcHl0aG9uIHNpZGUgb24gY29tcGxldGlvbiBvZiBlYWNoIHN0ZXAsCi8vIHRoZW4gcGFzc2VzIHRoZSByZXN1bHQgb2YgdGhlIHByZXZpb3VzIHN0ZXAgYXMgdGhlIGlucHV0IHRvIHRoZSBuZXh0IHN0ZXAuCmZ1bmN0aW9uIF91cGxvYWRGaWxlc0NvbnRpbnVlKG91dHB1dElkKSB7CiAgY29uc3Qgb3V0cHV0RWxlbWVudCA9IGRvY3VtZW50LmdldEVsZW1lbnRCeUlkKG91dHB1dElkKTsKICBjb25zdCBzdGVwcyA9IG91dHB1dEVsZW1lbnQuc3RlcHM7CgogIGNvbnN0IG5leHQgPSBzdGVwcy5uZXh0KG91dHB1dEVsZW1lbnQubGFzdFByb21pc2VWYWx1ZSk7CiAgcmV0dXJuIFByb21pc2UucmVzb2x2ZShuZXh0LnZhbHVlLnByb21pc2UpLnRoZW4oKHZhbHVlKSA9PiB7CiAgICAvLyBDYWNoZSB0aGUgbGFzdCBwcm9taXNlIHZhbHVlIHRvIG1ha2UgaXQgYXZhaWxhYmxlIHRvIHRoZSBuZXh0CiAgICAvLyBzdGVwIG9mIHRoZSBnZW5lcmF0b3IuCiAgICBvdXRwdXRFbGVtZW50Lmxhc3RQcm9taXNlVmFsdWUgPSB2YWx1ZTsKICAgIHJldHVybiBuZXh0LnZhbHVlLnJlc3BvbnNlOwogIH0pOwp9CgovKioKICogR2VuZXJhdG9yIGZ1bmN0aW9uIHdoaWNoIGlzIGNhbGxlZCBiZXR3ZWVuIGVhY2ggYXN5bmMgc3RlcCBvZiB0aGUgdXBsb2FkCiAqIHByb2Nlc3MuCiAqIEBwYXJhbSB7c3RyaW5nfSBpbnB1dElkIEVsZW1lbnQgSUQgb2YgdGhlIGlucHV0IGZpbGUgcGlja2VyIGVsZW1lbnQuCiAqIEBwYXJhbSB7c3RyaW5nfSBvdXRwdXRJZCBFbGVtZW50IElEIG9mIHRoZSBvdXRwdXQgZGlzcGxheS4KICogQHJldHVybiB7IUl0ZXJhYmxlPCFPYmplY3Q+fSBJdGVyYWJsZSBvZiBuZXh0IHN0ZXBzLgogKi8KZnVuY3Rpb24qIHVwbG9hZEZpbGVzU3RlcChpbnB1dElkLCBvdXRwdXRJZCkgewogIGNvbnN0IGlucHV0RWxlbWVudCA9IGRvY3VtZW50LmdldEVsZW1lbnRCeUlkKGlucHV0SWQpOwogIGlucHV0RWxlbWVudC5kaXNhYmxlZCA9IGZhbHNlOwoKICBjb25zdCBvdXRwdXRFbGVtZW50ID0gZG9jdW1lbnQuZ2V0RWxlbWVudEJ5SWQob3V0cHV0SWQpOwogIG91dHB1dEVsZW1lbnQuaW5uZXJIVE1MID0gJyc7CgogIGNvbnN0IHBpY2tlZFByb21pc2UgPSBuZXcgUHJvbWlzZSgocmVzb2x2ZSkgPT4gewogICAgaW5wdXRFbGVtZW50LmFkZEV2ZW50TGlzdGVuZXIoJ2NoYW5nZScsIChlKSA9PiB7CiAgICAgIHJlc29sdmUoZS50YXJnZXQuZmlsZXMpOwogICAgfSk7CiAgfSk7CgogIGNvbnN0IGNhbmNlbCA9IGRvY3VtZW50LmNyZWF0ZUVsZW1lbnQoJ2J1dHRvbicpOwogIGlucHV0RWxlbWVudC5wYXJlbnRFbGVtZW50LmFwcGVuZENoaWxkKGNhbmNlbCk7CiAgY2FuY2VsLnRleHRDb250ZW50ID0gJ0NhbmNlbCB1cGxvYWQnOwogIGNvbnN0IGNhbmNlbFByb21pc2UgPSBuZXcgUHJvbWlzZSgocmVzb2x2ZSkgPT4gewogICAgY2FuY2VsLm9uY2xpY2sgPSAoKSA9PiB7CiAgICAgIHJlc29sdmUobnVsbCk7CiAgICB9OwogIH0pOwoKICAvLyBXYWl0IGZvciB0aGUgdXNlciB0byBwaWNrIHRoZSBmaWxlcy4KICBjb25zdCBmaWxlcyA9IHlpZWxkIHsKICAgIHByb21pc2U6IFByb21pc2UucmFjZShbcGlja2VkUHJvbWlzZSwgY2FuY2VsUHJvbWlzZV0pLAogICAgcmVzcG9uc2U6IHsKICAgICAgYWN0aW9uOiAnc3RhcnRpbmcnLAogICAgfQogIH07CgogIGNhbmNlbC5yZW1vdmUoKTsKCiAgLy8gRGlzYWJsZSB0aGUgaW5wdXQgZWxlbWVudCBzaW5jZSBmdXJ0aGVyIHBpY2tzIGFyZSBub3QgYWxsb3dlZC4KICBpbnB1dEVsZW1lbnQuZGlzYWJsZWQgPSB0cnVlOwoKICBpZiAoIWZpbGVzKSB7CiAgICByZXR1cm4gewogICAgICByZXNwb25zZTogewogICAgICAgIGFjdGlvbjogJ2NvbXBsZXRlJywKICAgICAgfQogICAgfTsKICB9CgogIGZvciAoY29uc3QgZmlsZSBvZiBmaWxlcykgewogICAgY29uc3QgbGkgPSBkb2N1bWVudC5jcmVhdGVFbGVtZW50KCdsaScpOwogICAgbGkuYXBwZW5kKHNwYW4oZmlsZS5uYW1lLCB7Zm9udFdlaWdodDogJ2JvbGQnfSkpOwogICAgbGkuYXBwZW5kKHNwYW4oCiAgICAgICAgYCgke2ZpbGUudHlwZSB8fCAnbi9hJ30pIC0gJHtmaWxlLnNpemV9IGJ5dGVzLCBgICsKICAgICAgICBgbGFzdCBtb2RpZmllZDogJHsKICAgICAgICAgICAgZmlsZS5sYXN0TW9kaWZpZWREYXRlID8gZmlsZS5sYXN0TW9kaWZpZWREYXRlLnRvTG9jYWxlRGF0ZVN0cmluZygpIDoKICAgICAgICAgICAgICAgICAgICAgICAgICAgICAgICAgICAgJ24vYSd9IC0gYCkpOwogICAgY29uc3QgcGVyY2VudCA9IHNwYW4oJzAlIGRvbmUnKTsKICAgIGxpLmFwcGVuZENoaWxkKHBlcmNlbnQpOwoKICAgIG91dHB1dEVsZW1lbnQuYXBwZW5kQ2hpbGQobGkpOwoKICAgIGNvbnN0IGZpbGVEYXRhUHJvbWlzZSA9IG5ldyBQcm9taXNlKChyZXNvbHZlKSA9PiB7CiAgICAgIGNvbnN0IHJlYWRlciA9IG5ldyBGaWxlUmVhZGVyKCk7CiAgICAgIHJlYWRlci5vbmxvYWQgPSAoZSkgPT4gewogICAgICAgIHJlc29sdmUoZS50YXJnZXQucmVzdWx0KTsKICAgICAgfTsKICAgICAgcmVhZGVyLnJlYWRBc0FycmF5QnVmZmVyKGZpbGUpOwogICAgfSk7CiAgICAvLyBXYWl0IGZvciB0aGUgZGF0YSB0byBiZSByZWFkeS4KICAgIGxldCBmaWxlRGF0YSA9IHlpZWxkIHsKICAgICAgcHJvbWlzZTogZmlsZURhdGFQcm9taXNlLAogICAgICByZXNwb25zZTogewogICAgICAgIGFjdGlvbjogJ2NvbnRpbnVlJywKICAgICAgfQogICAgfTsKCiAgICAvLyBVc2UgYSBjaHVua2VkIHNlbmRpbmcgdG8gYXZvaWQgbWVzc2FnZSBzaXplIGxpbWl0cy4gU2VlIGIvNjIxMTU2NjAuCiAgICBsZXQgcG9zaXRpb24gPSAwOwogICAgd2hpbGUgKHBvc2l0aW9uIDwgZmlsZURhdGEuYnl0ZUxlbmd0aCkgewogICAgICBjb25zdCBsZW5ndGggPSBNYXRoLm1pbihmaWxlRGF0YS5ieXRlTGVuZ3RoIC0gcG9zaXRpb24sIE1BWF9QQVlMT0FEX1NJWkUpOwogICAgICBjb25zdCBjaHVuayA9IG5ldyBVaW50OEFycmF5KGZpbGVEYXRhLCBwb3NpdGlvbiwgbGVuZ3RoKTsKICAgICAgcG9zaXRpb24gKz0gbGVuZ3RoOwoKICAgICAgY29uc3QgYmFzZTY0ID0gYnRvYShTdHJpbmcuZnJvbUNoYXJDb2RlLmFwcGx5KG51bGwsIGNodW5rKSk7CiAgICAgIHlpZWxkIHsKICAgICAgICByZXNwb25zZTogewogICAgICAgICAgYWN0aW9uOiAnYXBwZW5kJywKICAgICAgICAgIGZpbGU6IGZpbGUubmFtZSwKICAgICAgICAgIGRhdGE6IGJhc2U2NCwKICAgICAgICB9LAogICAgICB9OwogICAgICBwZXJjZW50LnRleHRDb250ZW50ID0KICAgICAgICAgIGAke01hdGgucm91bmQoKHBvc2l0aW9uIC8gZmlsZURhdGEuYnl0ZUxlbmd0aCkgKiAxMDApfSUgZG9uZWA7CiAgICB9CiAgfQoKICAvLyBBbGwgZG9uZS4KICB5aWVsZCB7CiAgICByZXNwb25zZTogewogICAgICBhY3Rpb246ICdjb21wbGV0ZScsCiAgICB9CiAgfTsKfQoKc2NvcGUuZ29vZ2xlID0gc2NvcGUuZ29vZ2xlIHx8IHt9OwpzY29wZS5nb29nbGUuY29sYWIgPSBzY29wZS5nb29nbGUuY29sYWIgfHwge307CnNjb3BlLmdvb2dsZS5jb2xhYi5fZmlsZXMgPSB7CiAgX3VwbG9hZEZpbGVzLAogIF91cGxvYWRGaWxlc0NvbnRpbnVlLAp9Owp9KShzZWxmKTsK",
              "ok": true,
              "headers": [
                [
                  "content-type",
                  "application/javascript"
                ]
              ],
              "status": 200,
              "status_text": ""
            }
          },
          "base_uri": "https://localhost:8080/",
          "height": 72
        }
      },
      "source": [
        "# first we need to upload the csv file that we have saved locally\n",
        "# you can find the file here of need be: https://docs.google.com/spreadsheets/d/e/2PACX-1vSfSg4N7HcMooSm4Ypf81ZH9BRLo9M44IQdCpb-36gmb7tR4TEnqk0NXSn7gxj016m77oooQW39dvxS/pubhtml\n",
        "from google.colab import files\n",
        "uploaded = files.upload()"
      ],
      "execution_count": null,
      "outputs": [
        {
          "output_type": "display_data",
          "data": {
            "text/html": [
              "\n",
              "     <input type=\"file\" id=\"files-2ee1c5b2-5cab-4ce1-8362-ca75891f559e\" name=\"files[]\" multiple disabled\n",
              "        style=\"border:none\" />\n",
              "     <output id=\"result-2ee1c5b2-5cab-4ce1-8362-ca75891f559e\">\n",
              "      Upload widget is only available when the cell has been executed in the\n",
              "      current browser session. Please rerun this cell to enable.\n",
              "      </output>\n",
              "      <script src=\"/nbextensions/google.colab/files.js\"></script> "
            ],
            "text/plain": [
              "<IPython.core.display.HTML object>"
            ]
          },
          "metadata": {
            "tags": []
          }
        },
        {
          "output_type": "stream",
          "text": [
            "Saving pokemon_go.csv to pokemon_go.csv\n"
          ],
          "name": "stdout"
        }
      ]
    },
    {
      "cell_type": "code",
      "metadata": {
        "id": "fbQmATVEMV4t"
      },
      "source": [
        "# next, we're going to import our main modules, including IO, which will allow us to pass external files into Pandas\n",
        "from matplotlib import pyplot as plt\n",
        "from matplotlib import style as style\n",
        "import numpy as np\n",
        "import seaborn as sns\n",
        "import altair as alt\n",
        "from collections import Counter\n",
        "import pandas as pd \n",
        "import io"
      ],
      "execution_count": null,
      "outputs": []
    },
    {
      "cell_type": "code",
      "metadata": {
        "id": "Wc9RM1RjZn5a"
      },
      "source": [
        "# creating our dataframe\n",
        "df = pd.read_csv(io.BytesIO(uploaded['pokemon_go.csv']))"
      ],
      "execution_count": null,
      "outputs": []
    },
    {
      "cell_type": "markdown",
      "metadata": {
        "id": "GUhbSfN5NDmW"
      },
      "source": [
        "# Cleaning our data and setting up some useful functions"
      ]
    },
    {
      "cell_type": "code",
      "metadata": {
        "id": "-Ggdyg-lMk05",
        "outputId": "5f8e9883-e80b-440a-dd7b-9df8268fcbcf",
        "colab": {
          "base_uri": "https://localhost:8080/",
          "height": 111
        }
      },
      "source": [
        "# let's see what our dataframe currently looks like\n",
        "df.head(2)"
      ],
      "execution_count": null,
      "outputs": [
        {
          "output_type": "execute_result",
          "data": {
            "text/html": [
              "<div>\n",
              "<style scoped>\n",
              "    .dataframe tbody tr th:only-of-type {\n",
              "        vertical-align: middle;\n",
              "    }\n",
              "\n",
              "    .dataframe tbody tr th {\n",
              "        vertical-align: top;\n",
              "    }\n",
              "\n",
              "    .dataframe thead th {\n",
              "        text-align: right;\n",
              "    }\n",
              "</style>\n",
              "<table border=\"1\" class=\"dataframe\">\n",
              "  <thead>\n",
              "    <tr style=\"text-align: right;\">\n",
              "      <th></th>\n",
              "      <th>Name</th>\n",
              "      <th>Pokedex</th>\n",
              "      <th>Stamina</th>\n",
              "      <th>Attack</th>\n",
              "      <th>Defense</th>\n",
              "      <th>Primary</th>\n",
              "      <th>Secondary</th>\n",
              "      <th>MaxHP</th>\n",
              "      <th>Capture_rate</th>\n",
              "      <th>Escape_rate</th>\n",
              "      <th>Weight</th>\n",
              "      <th>Height</th>\n",
              "      <th>Legendary</th>\n",
              "      <th>MaxCP</th>\n",
              "      <th>Generation</th>\n",
              "    </tr>\n",
              "  </thead>\n",
              "  <tbody>\n",
              "    <tr>\n",
              "      <th>0</th>\n",
              "      <td>Bulbasaur</td>\n",
              "      <td>1</td>\n",
              "      <td>128</td>\n",
              "      <td>118</td>\n",
              "      <td>111</td>\n",
              "      <td>Grass</td>\n",
              "      <td>Poison</td>\n",
              "      <td>113</td>\n",
              "      <td>0.2</td>\n",
              "      <td>0.10</td>\n",
              "      <td>6.9</td>\n",
              "      <td>0.7</td>\n",
              "      <td>False</td>\n",
              "      <td>1115</td>\n",
              "      <td>1</td>\n",
              "    </tr>\n",
              "    <tr>\n",
              "      <th>1</th>\n",
              "      <td>Ivysaur</td>\n",
              "      <td>2</td>\n",
              "      <td>155</td>\n",
              "      <td>151</td>\n",
              "      <td>143</td>\n",
              "      <td>Grass</td>\n",
              "      <td>Poison</td>\n",
              "      <td>134</td>\n",
              "      <td>0.1</td>\n",
              "      <td>0.07</td>\n",
              "      <td>13.0</td>\n",
              "      <td>1.0</td>\n",
              "      <td>False</td>\n",
              "      <td>1699</td>\n",
              "      <td>1</td>\n",
              "    </tr>\n",
              "  </tbody>\n",
              "</table>\n",
              "</div>"
            ],
            "text/plain": [
              "        Name  Pokedex  Stamina  Attack  ...  Height Legendary MaxCP  Generation\n",
              "0  Bulbasaur        1      128     118  ...     0.7     False  1115           1\n",
              "1    Ivysaur        2      155     151  ...     1.0     False  1699           1\n",
              "\n",
              "[2 rows x 15 columns]"
            ]
          },
          "metadata": {
            "tags": []
          },
          "execution_count": 4
        }
      ]
    },
    {
      "cell_type": "code",
      "metadata": {
        "id": "uUz8q8riA3lr"
      },
      "source": [
        "# before we can do anything with this dataset, we're going to have to clean some of its series:\n",
        "# the inplace=True condition means that we're saving / updating all our changes in our dataframe\n",
        "\n",
        "# our X serie (Legendary) is in boolean format, let's turn it into a string type instead\n",
        "df['Form'] = df['Legendary'].apply(lambda x: 'Legendary' if x is True else 'Ordinary')\n",
        "# we no longer need the boolean serie\n",
        "df.drop(columns='Legendary', inplace=True)"
      ],
      "execution_count": null,
      "outputs": []
    },
    {
      "cell_type": "code",
      "metadata": {
        "id": "lvC8Z95L5xFA",
        "outputId": "dad011ec-4231-42be-a957-d2be818fc7ea",
        "colab": {
          "base_uri": "https://localhost:8080/"
        }
      },
      "source": [
        "# setting up a useful counter function for easier plotting of categorical values\n",
        "def make_count(serie, howmany):\n",
        "  my_list1, my_list2 = [], []\n",
        "  my_count = Counter(serie)\n",
        "  for x,y in my_count.most_common(howmany):\n",
        "    my_list1.append(x)\n",
        "    my_list2.append(y)\n",
        "  my_dict = {'labels': my_list1, 'values': my_list2}\n",
        "  return my_dict\n",
        "\n",
        "# testing it\n",
        "my_test = make_count(df['Primary'], 5)\n",
        "print(my_test)"
      ],
      "execution_count": null,
      "outputs": [
        {
          "output_type": "stream",
          "text": [
            "{'labels': ['Water', 'Normal', 'Grass', 'Bug', 'Psychic'], 'values': [100, 89, 61, 60, 44]}\n"
          ],
          "name": "stdout"
        }
      ]
    },
    {
      "cell_type": "code",
      "metadata": {
        "id": "9kAisvec7E6r"
      },
      "source": [
        "# defining our matplotlib RcParams, optional but they make the plots look and feel better\n",
        "rc = {\n",
        "      'figure.figsize': (19,5),\n",
        "      'axes.facecolor': 'white',\n",
        "      'axes.edgecolor': 'white',\n",
        "      'grid.color': 'white',\n",
        "      'font.family': 'monospace',\n",
        "      'font.size': 15\n",
        "       }\n",
        "plt.rcParams.update(rc)"
      ],
      "execution_count": null,
      "outputs": []
    },
    {
      "cell_type": "code",
      "metadata": {
        "id": "t7AtyVlp751X"
      },
      "source": [
        "# building a side by side bar plot on Seaborn\n",
        "def make_twobarcharts(x1,y1,x2,y2,my_title1,my_title2):\n",
        "  fig = plt.figure(figsize=(19,5))\n",
        "  plt.subplot(121)\n",
        "  left = sns.barplot(x=x1, y=y1, orient='h', palette='Blues_r')\n",
        "  sns.despine(left=True, right=True, top=True, bottom=True)\n",
        "  plt.xlabel('')\n",
        "  plt.ylabel('')\n",
        "  left.set_title(my_title1)\n",
        "  plt.subplot(122)\n",
        "  right = sns.barplot(x=x2, y=y2, orient='h', palette='Blues_r')\n",
        "  sns.despine(left=True, right=True, top=True, bottom=True)\n",
        "  plt.xlabel('')\n",
        "  plt.ylabel('')\n",
        "  right.set_title(my_title2)\n",
        "  plt.subplots_adjust(wspace = 0.2, hspace = 0.4, top = 0.9)\n",
        "  plt.show()"
      ],
      "execution_count": null,
      "outputs": []
    },
    {
      "cell_type": "code",
      "metadata": {
        "id": "S51lD6FeCO_u"
      },
      "source": [
        "# building a side by side histogram plot on Seaborn\n",
        "def make_twohistcharts(x1,x2,my_title1,my_title2):\n",
        "  fig = plt.figure(figsize=(19,5))\n",
        "  plt.subplot(121)\n",
        "  left = sns.histplot(x1, kde=True, bins= 15, palette='Blues_r')\n",
        "  sns.despine(left=True, right=True, top=True, bottom=True)\n",
        "  plt.xlabel('')\n",
        "  plt.ylabel('')\n",
        "  left.set_title(my_title1)\n",
        "  plt.subplot(122)\n",
        "  right = sns.histplot(x2, kde=True, bins=15, palette='Blues_r')\n",
        "  sns.despine(left=True, right=True, top=True, bottom=True)\n",
        "  plt.xlabel('')\n",
        "  plt.ylabel('')\n",
        "  right.set_title(my_title2)\n",
        "  plt.subplots_adjust(wspace = 0.2, hspace = 0.4, top = 0.9)\n",
        "  plt.show()"
      ],
      "execution_count": null,
      "outputs": []
    },
    {
      "cell_type": "code",
      "metadata": {
        "id": "sheRhmZD0OsZ"
      },
      "source": [
        "# building a side by side scatter plot on Seaborn\n",
        "def make_twoscattercharts(x1,y1,x2,y2,my_title1,my_title2):\n",
        "  fig = plt.figure(figsize=(19,5))\n",
        "  plt.subplot(121)\n",
        "  left = sns.scatterplot(x=x1, y=y1, palette='Blues_r', alpha=0.4, edgecolor='k', hue=df['Form'])\n",
        "  sns.despine(left=True, right=True, top=True, bottom=True)\n",
        "  plt.xlabel('')\n",
        "  plt.ylabel('')\n",
        "  left.set_title(my_title1)\n",
        "  plt.subplot(122)\n",
        "  right = sns.scatterplot(x=x2, y=y2, palette='Blues_r', alpha=0.4, edgecolor='k', hue=df['Form'])\n",
        "  sns.despine(left=True, right=True, top=True, bottom=True)\n",
        "  plt.xlabel('')\n",
        "  plt.ylabel('')\n",
        "  right.set_title(my_title2)\n",
        "  plt.subplots_adjust(wspace = 0.2, hspace = 0.4, top = 0.9)\n",
        "  plt.show()"
      ],
      "execution_count": null,
      "outputs": []
    },
    {
      "cell_type": "markdown",
      "metadata": {
        "id": "ozcc96T4KeT3"
      },
      "source": [
        "# Question 1"
      ]
    },
    {
      "cell_type": "markdown",
      "metadata": {
        "id": "yBPDdplQGyUi"
      },
      "source": [
        "> **Describe the dataset using appropriate plots / curves/ charts**\n",
        "\n"
      ]
    },
    {
      "cell_type": "code",
      "metadata": {
        "id": "zzJwoOrhKg5E",
        "outputId": "f4a85d61-c13b-4ee2-d857-749fc15cbea5",
        "colab": {
          "base_uri": "https://localhost:8080/",
          "height": 111
        }
      },
      "source": [
        "# first, let's take a look at the first 2 rows of our dataset\n",
        "df.head(2)"
      ],
      "execution_count": null,
      "outputs": [
        {
          "output_type": "execute_result",
          "data": {
            "text/html": [
              "<div>\n",
              "<style scoped>\n",
              "    .dataframe tbody tr th:only-of-type {\n",
              "        vertical-align: middle;\n",
              "    }\n",
              "\n",
              "    .dataframe tbody tr th {\n",
              "        vertical-align: top;\n",
              "    }\n",
              "\n",
              "    .dataframe thead th {\n",
              "        text-align: right;\n",
              "    }\n",
              "</style>\n",
              "<table border=\"1\" class=\"dataframe\">\n",
              "  <thead>\n",
              "    <tr style=\"text-align: right;\">\n",
              "      <th></th>\n",
              "      <th>Name</th>\n",
              "      <th>Pokedex</th>\n",
              "      <th>Stamina</th>\n",
              "      <th>Attack</th>\n",
              "      <th>Defense</th>\n",
              "      <th>Primary</th>\n",
              "      <th>Secondary</th>\n",
              "      <th>MaxHP</th>\n",
              "      <th>Capture_rate</th>\n",
              "      <th>Escape_rate</th>\n",
              "      <th>Weight</th>\n",
              "      <th>Height</th>\n",
              "      <th>MaxCP</th>\n",
              "      <th>Generation</th>\n",
              "      <th>Form</th>\n",
              "    </tr>\n",
              "  </thead>\n",
              "  <tbody>\n",
              "    <tr>\n",
              "      <th>0</th>\n",
              "      <td>Bulbasaur</td>\n",
              "      <td>1</td>\n",
              "      <td>128</td>\n",
              "      <td>118</td>\n",
              "      <td>111</td>\n",
              "      <td>Grass</td>\n",
              "      <td>Poison</td>\n",
              "      <td>113</td>\n",
              "      <td>0.2</td>\n",
              "      <td>0.10</td>\n",
              "      <td>6.9</td>\n",
              "      <td>0.7</td>\n",
              "      <td>1115</td>\n",
              "      <td>1</td>\n",
              "      <td>Ordinary</td>\n",
              "    </tr>\n",
              "    <tr>\n",
              "      <th>1</th>\n",
              "      <td>Ivysaur</td>\n",
              "      <td>2</td>\n",
              "      <td>155</td>\n",
              "      <td>151</td>\n",
              "      <td>143</td>\n",
              "      <td>Grass</td>\n",
              "      <td>Poison</td>\n",
              "      <td>134</td>\n",
              "      <td>0.1</td>\n",
              "      <td>0.07</td>\n",
              "      <td>13.0</td>\n",
              "      <td>1.0</td>\n",
              "      <td>1699</td>\n",
              "      <td>1</td>\n",
              "      <td>Ordinary</td>\n",
              "    </tr>\n",
              "  </tbody>\n",
              "</table>\n",
              "</div>"
            ],
            "text/plain": [
              "        Name  Pokedex  Stamina  Attack  ...  Height MaxCP Generation      Form\n",
              "0  Bulbasaur        1      128     118  ...     0.7  1115          1  Ordinary\n",
              "1    Ivysaur        2      155     151  ...     1.0  1699          1  Ordinary\n",
              "\n",
              "[2 rows x 15 columns]"
            ]
          },
          "metadata": {
            "tags": []
          },
          "execution_count": 11
        }
      ]
    },
    {
      "cell_type": "code",
      "metadata": {
        "id": "KPKrXR9r-vuw",
        "outputId": "6e627483-18a1-4e22-a3ec-8dc71d701cab",
        "colab": {
          "base_uri": "https://localhost:8080/",
          "height": 297
        }
      },
      "source": [
        "# we can also use the describe() function in Pandas, which provides some basis statistical insights \n",
        "df.describe(). round(2)"
      ],
      "execution_count": null,
      "outputs": [
        {
          "output_type": "execute_result",
          "data": {
            "text/html": [
              "<div>\n",
              "<style scoped>\n",
              "    .dataframe tbody tr th:only-of-type {\n",
              "        vertical-align: middle;\n",
              "    }\n",
              "\n",
              "    .dataframe tbody tr th {\n",
              "        vertical-align: top;\n",
              "    }\n",
              "\n",
              "    .dataframe thead th {\n",
              "        text-align: right;\n",
              "    }\n",
              "</style>\n",
              "<table border=\"1\" class=\"dataframe\">\n",
              "  <thead>\n",
              "    <tr style=\"text-align: right;\">\n",
              "      <th></th>\n",
              "      <th>Pokedex</th>\n",
              "      <th>Stamina</th>\n",
              "      <th>Attack</th>\n",
              "      <th>Defense</th>\n",
              "      <th>MaxHP</th>\n",
              "      <th>Capture_rate</th>\n",
              "      <th>Escape_rate</th>\n",
              "      <th>Weight</th>\n",
              "      <th>Height</th>\n",
              "      <th>MaxCP</th>\n",
              "      <th>Generation</th>\n",
              "    </tr>\n",
              "  </thead>\n",
              "  <tbody>\n",
              "    <tr>\n",
              "      <th>count</th>\n",
              "      <td>649.00</td>\n",
              "      <td>649.00</td>\n",
              "      <td>649.00</td>\n",
              "      <td>649.00</td>\n",
              "      <td>649.00</td>\n",
              "      <td>649.00</td>\n",
              "      <td>649.00</td>\n",
              "      <td>649.00</td>\n",
              "      <td>649.00</td>\n",
              "      <td>649.00</td>\n",
              "      <td>649.00</td>\n",
              "    </tr>\n",
              "    <tr>\n",
              "      <th>mean</th>\n",
              "      <td>325.00</td>\n",
              "      <td>168.87</td>\n",
              "      <td>161.15</td>\n",
              "      <td>140.76</td>\n",
              "      <td>144.85</td>\n",
              "      <td>0.24</td>\n",
              "      <td>0.08</td>\n",
              "      <td>57.49</td>\n",
              "      <td>1.15</td>\n",
              "      <td>1918.01</td>\n",
              "      <td>3.05</td>\n",
              "    </tr>\n",
              "    <tr>\n",
              "      <th>std</th>\n",
              "      <td>187.49</td>\n",
              "      <td>45.58</td>\n",
              "      <td>56.52</td>\n",
              "      <td>49.43</td>\n",
              "      <td>35.96</td>\n",
              "      <td>0.17</td>\n",
              "      <td>0.06</td>\n",
              "      <td>90.56</td>\n",
              "      <td>1.04</td>\n",
              "      <td>901.86</td>\n",
              "      <td>1.49</td>\n",
              "    </tr>\n",
              "    <tr>\n",
              "      <th>min</th>\n",
              "      <td>1.00</td>\n",
              "      <td>1.00</td>\n",
              "      <td>17.00</td>\n",
              "      <td>32.00</td>\n",
              "      <td>12.00</td>\n",
              "      <td>0.00</td>\n",
              "      <td>0.00</td>\n",
              "      <td>0.10</td>\n",
              "      <td>0.10</td>\n",
              "      <td>274.00</td>\n",
              "      <td>1.00</td>\n",
              "    </tr>\n",
              "    <tr>\n",
              "      <th>25%</th>\n",
              "      <td>163.00</td>\n",
              "      <td>137.00</td>\n",
              "      <td>118.00</td>\n",
              "      <td>100.00</td>\n",
              "      <td>120.00</td>\n",
              "      <td>0.10</td>\n",
              "      <td>0.06</td>\n",
              "      <td>10.10</td>\n",
              "      <td>0.60</td>\n",
              "      <td>1144.00</td>\n",
              "      <td>2.00</td>\n",
              "    </tr>\n",
              "    <tr>\n",
              "      <th>50%</th>\n",
              "      <td>325.00</td>\n",
              "      <td>163.00</td>\n",
              "      <td>159.00</td>\n",
              "      <td>137.00</td>\n",
              "      <td>140.00</td>\n",
              "      <td>0.20</td>\n",
              "      <td>0.07</td>\n",
              "      <td>29.00</td>\n",
              "      <td>1.00</td>\n",
              "      <td>1859.00</td>\n",
              "      <td>3.00</td>\n",
              "    </tr>\n",
              "    <tr>\n",
              "      <th>75%</th>\n",
              "      <td>487.00</td>\n",
              "      <td>190.00</td>\n",
              "      <td>204.00</td>\n",
              "      <td>175.00</td>\n",
              "      <td>162.00</td>\n",
              "      <td>0.30</td>\n",
              "      <td>0.10</td>\n",
              "      <td>61.00</td>\n",
              "      <td>1.40</td>\n",
              "      <td>2564.00</td>\n",
              "      <td>4.00</td>\n",
              "    </tr>\n",
              "    <tr>\n",
              "      <th>max</th>\n",
              "      <td>649.00</td>\n",
              "      <td>496.00</td>\n",
              "      <td>345.00</td>\n",
              "      <td>396.00</td>\n",
              "      <td>403.00</td>\n",
              "      <td>1.00</td>\n",
              "      <td>0.99</td>\n",
              "      <td>950.00</td>\n",
              "      <td>14.50</td>\n",
              "      <td>4431.00</td>\n",
              "      <td>5.00</td>\n",
              "    </tr>\n",
              "  </tbody>\n",
              "</table>\n",
              "</div>"
            ],
            "text/plain": [
              "       Pokedex  Stamina  Attack  Defense  ...  Weight  Height    MaxCP  Generation\n",
              "count   649.00   649.00  649.00   649.00  ...  649.00  649.00   649.00      649.00\n",
              "mean    325.00   168.87  161.15   140.76  ...   57.49    1.15  1918.01        3.05\n",
              "std     187.49    45.58   56.52    49.43  ...   90.56    1.04   901.86        1.49\n",
              "min       1.00     1.00   17.00    32.00  ...    0.10    0.10   274.00        1.00\n",
              "25%     163.00   137.00  118.00   100.00  ...   10.10    0.60  1144.00        2.00\n",
              "50%     325.00   163.00  159.00   137.00  ...   29.00    1.00  1859.00        3.00\n",
              "75%     487.00   190.00  204.00   175.00  ...   61.00    1.40  2564.00        4.00\n",
              "max     649.00   496.00  345.00   396.00  ...  950.00   14.50  4431.00        5.00\n",
              "\n",
              "[8 rows x 11 columns]"
            ]
          },
          "metadata": {
            "tags": []
          },
          "execution_count": 23
        }
      ]
    },
    {
      "cell_type": "markdown",
      "metadata": {
        "id": "jzE7idHBR6es"
      },
      "source": [
        "So it seems we have 649 rows, and we can clearly see our **mean**, **standard deviation**, **top percentiles**: 25%, 50%, 75%\n",
        "By default, it is important to note that the *describe()* function will only take into account numerical data.\n",
        "\n",
        "Let's now take a look at our categorical values!"
      ]
    },
    {
      "cell_type": "code",
      "metadata": {
        "id": "WZBC1QL5-Wn2",
        "outputId": "0780ad8f-a144-4f13-c989-d5bb8f994fe7",
        "colab": {
          "base_uri": "https://localhost:8080/",
          "height": 352
        }
      },
      "source": [
        "# for categorical values, bar charts provide great insights. Using the double bar charts function that we defined earlier\n",
        "my_title1, my_title2 = 'Top primary Pokemon types', 'Top secondary Pokemon types'\n",
        "my_plot = make_count(df.Primary, 6)\n",
        "my_plot2 = make_count(df.Secondary, 6)\n",
        "x1, y1 = my_plot['values'], my_plot['labels']\n",
        "x2, y2 = my_plot2['values'], my_plot2['labels']\n",
        "# calling our function\n",
        "make_twobarcharts(x1,y1,x2,y2,my_title1,my_title2)"
      ],
      "execution_count": null,
      "outputs": [
        {
          "output_type": "display_data",
          "data": {
            "image/png": "[encoded data removed]",
            "text/plain": [
              "<Figure size 1368x360 with 2 Axes>"
            ]
          },
          "metadata": {
            "tags": [],
            "needs_background": "light"
          }
        }
      ]
    },
    {
      "cell_type": "markdown",
      "metadata": {
        "id": "wX4OgkV5SPDx"
      },
      "source": [
        "Ok, that's interesting. Here is what we can see in our two bar charts above:\n",
        "1.   All Pokemons have a **primary tag**\n",
        "2.   However, only a few Pokemons seem to have a **secondary ability**. Could this mean that some Pokemons are specific stats or attributes that makes them different from the others? We'll be getting back to this later! :)"
      ]
    },
    {
      "cell_type": "code",
      "metadata": {
        "id": "IRDdkiqc_w6g",
        "outputId": "6f37050b-243c-45ac-b153-432471a92366",
        "colab": {
          "base_uri": "https://localhost:8080/",
          "height": 352
        }
      },
      "source": [
        "# for numerical values, we're going to use distribution charts. Again, using a plotting function that I defined earlier\n",
        "my_title1, my_title2 = 'Attacking stats distribution', 'Defensive stats distribution'\n",
        "x1, x2 = df.Attack, df.Defense\n",
        "# calling our function\n",
        "make_twohistcharts(x1,x2,my_title1,my_title2)"
      ],
      "execution_count": null,
      "outputs": [
        {
          "output_type": "display_data",
          "data": {
            "image/png": "[encoded data removed]",
            "text/plain": [
              "<Figure size 1368x360 with 2 Axes>"
            ]
          },
          "metadata": {
            "tags": [],
            "needs_background": "light"
          }
        }
      ]
    },
    {
      "cell_type": "markdown",
      "metadata": {
        "id": "ql7MlVzoTxRH"
      },
      "source": [
        "Now, that's also quite interesting:\n",
        "1.   Both attacking and defensive stats seem to present a normal, bell curved distribution\n",
        "2.   The range seems quite similar: between 0 and 350\n",
        "3.   However, we can see that there are more Pokemons with attacking stats above 200, than Pokemons with defensive stats above 200. That could mean that in combat, priority is given to aggressive tactics, and that users who attack first get a clear advantage."
      ]
    },
    {
      "cell_type": "code",
      "metadata": {
        "id": "_ACcEQMJxtpg",
        "outputId": "0d4b206d-7239-4167-e62e-13c1d07a6c3d",
        "colab": {
          "base_uri": "https://localhost:8080/",
          "height": 352
        }
      },
      "source": [
        "# for correlated numerical values, scatter plots work best. Using the double scatter charts function that we defined earlier\n",
        "my_title1, my_title2 = 'Relationship between attacking stats and combat points', 'Relationship between health and combat points'\n",
        "x1, y1 = df['MaxCP'], df['Attack']\n",
        "x2, y2 = df['MaxCP'], df['MaxHP']\n",
        "# calling our function\n",
        "make_twoscattercharts(x1,y1,x2,y2,my_title1,my_title2)"
      ],
      "execution_count": null,
      "outputs": [
        {
          "output_type": "display_data",
          "data": {
            "image/png": "[encoded data removed]",
            "text/plain": [
              "<Figure size 1368x360 with 2 Axes>"
            ]
          },
          "metadata": {
            "tags": [],
            "needs_background": "light"
          }
        }
      ]
    },
    {
      "cell_type": "markdown",
      "metadata": {
        "id": "XBJSFnITUrGW"
      },
      "source": [
        "And how about these two scatter plots? The Pokemon Company and Nintendo both argue that \"*there is more to winning a battle that just attacking*\".\n",
        "\n",
        "Well, from what we can see, **having strong Pokemons** (attacking stats + health points) is a key factor in battles.\n",
        "\n"
      ]
    },
    {
      "cell_type": "markdown",
      "metadata": {
        "id": "-5083HJpG5sl"
      },
      "source": [
        "> **Consider one of continuous attributes, and compute central and variational measures**"
      ]
    },
    {
      "cell_type": "code",
      "metadata": {
        "id": "-zZp3htBHEYh",
        "outputId": "ad65a7a6-d60b-4f9b-f48f-62b292b88abb",
        "colab": {
          "base_uri": "https://localhost:8080/"
        }
      },
      "source": [
        "# getting the mean value for the weight\n",
        "my_mean = df.Weight.mean()\n",
        "\n",
        "# getting the mode (or most common value) for the weight\n",
        "my_mode = df.Weight.mode()\n",
        "\n",
        "# Printing our results\n",
        "print('The mean value for weight stats is', my_mean)\n",
        "print('The mode (most common value) for weight stats is', my_mode)"
      ],
      "execution_count": null,
      "outputs": [
        {
          "output_type": "stream",
          "text": [
            "The mean value for weight stats is 57.493374422187955\n",
            "The mode (most common value) for weight stats is 0    15.0\n",
            "1    30.0\n",
            "dtype: float64\n"
          ],
          "name": "stdout"
        }
      ]
    },
    {
      "cell_type": "markdown",
      "metadata": {
        "id": "afHgROT8WupR"
      },
      "source": [
        "What do we have here? The mean (or average), which in other words is the sum divided by the count (I'm pretty crap at mathematics, so I hope I got this one correct). And the mode, which the most frequent value.\n",
        "\n",
        "Please note that for increased readability we could add *.round()* and round our floats to the nearest decimal value."
      ]
    },
    {
      "cell_type": "code",
      "metadata": {
        "id": "LGRc4GNK980I",
        "outputId": "2d86c677-5bc3-42ac-fb8e-0396e358c6a3",
        "colab": {
          "base_uri": "https://localhost:8080/"
        }
      },
      "source": [
        "# now getting the range value (how spread our data is) for height this time\n",
        "my_range = df.Height.max() - df.Height.min()\n",
        "\n",
        "# and then the variance for health points\n",
        "my_var = df.Height.var()\n",
        "\n",
        "# Printing our results\n",
        "print('The range for height is', my_range)\n",
        "print('The variance for height is', my_var)"
      ],
      "execution_count": null,
      "outputs": [
        {
          "output_type": "stream",
          "text": [
            "The range for height is 14.4\n",
            "The variance for height is 1.0750350139816305\n"
          ],
          "name": "stdout"
        }
      ]
    },
    {
      "cell_type": "markdown",
      "metadata": {
        "id": "YcmEyalCXmdo"
      },
      "source": [
        "Next, I picked the range and the variance. The range is quite easy: it's the difference between the lowest and highest values. So, for instance, The highest temperature in Ireland in July might be 22 degrees, and the lowest 14. Then the range is 22 - 14 = 8.\n",
        "\n",
        "As for the variance, this is a bit trickier (at least for me). The definition says \"*the average of the squared differences from the Mean*\" (that's not from me unfortunately). How Sharham explained it to us is: you take the difference betweem each value, you square this difference, and then average what you just calculated."
      ]
    },
    {
      "cell_type": "markdown",
      "metadata": {
        "id": "bcdl-B8n-mdm"
      },
      "source": [
        "> **For a particular variable of the dataset, use Chebyshev's rule, and propose one-sigma interval. Based on your proposed interval, specify the outliers if any**\n",
        "\n",
        "Note: a very interesting on sigma intervals can be found [here](https://news.mit.edu/2012/explained-sigma-0209)\n",
        "\n",
        "I have to admit that it took me more than the class activities to understand this. For people like me who don't have a statistical background, what I find confusing is that different words can be used for similar concepts (a bit like in programing you would have the words double and float). From what I can understand, a \"one sigma interval\" means a one standard deviation interval. In other words:\n",
        "1.   we get our mean\n",
        "2.   We get our standard deviation\n",
        "3.   We keep values that are between *mean() - sd(), and mean() + sd()*"
      ]
    },
    {
      "cell_type": "code",
      "metadata": {
        "id": "3Ew4XvQe8qty"
      },
      "source": [
        "# a 1 sigma interval means 1 time standard deviation. For 2 times we could use *2 sd, etc..\n",
        "\n",
        "# calculating the standard deviation for the health points\n",
        "my_sd = df.MaxHP.std()"
      ],
      "execution_count": null,
      "outputs": []
    },
    {
      "cell_type": "code",
      "metadata": {
        "id": "SHwZJdjrIqOg",
        "outputId": "329a3758-953a-4edc-898c-17c121cfb050",
        "colab": {
          "base_uri": "https://localhost:8080/"
        }
      },
      "source": [
        "# to show why this is important, we can now see who the most resistant Pokemons are, aka those above our mean + standard deviation\n",
        "my_resistantpokemons_score = my_mean + my_sd\n",
        "my_resistantpokemons = df[ (df.MaxHP > my_resistantpokemons_score)]\n",
        "\n",
        "for x,y in enumerate(my_resistantpokemons.Name.sample(4)):\n",
        "  print('Sample Pokemon %d:\\n'%(x+1),y)"
      ],
      "execution_count": null,
      "outputs": [
        {
          "output_type": "stream",
          "text": [
            "Sample Pokemon 1:\n",
            " Primeape\n",
            "Sample Pokemon 2:\n",
            " Nidoqueen\n",
            "Sample Pokemon 3:\n",
            " Pachirisu\n",
            "Sample Pokemon 4:\n",
            " Misdreavus\n"
          ],
          "name": "stdout"
        }
      ]
    },
    {
      "cell_type": "code",
      "metadata": {
        "id": "xYaH73BzDb5Z"
      },
      "source": [
        "# back to the exercise, let's filter out our outliers\n",
        "my_upperstd = df.MaxHP.mean() + df.MaxHP.std()\n",
        "my_lowerstd = df.MaxHP.mean() - df.MaxHP.std()\n",
        "\n",
        "# calling this sub-dataframe 'chebyshev', as some sort of tribute!\n",
        "df_chebyshev = df[ (df['MaxHP'] < my_upperstd) & (df['MaxHP'] > my_lowerstd) ]"
      ],
      "execution_count": null,
      "outputs": []
    },
    {
      "cell_type": "markdown",
      "metadata": {
        "id": "YvnU_cfyFpYJ"
      },
      "source": [
        "> **Explain how the box-plot technique can be used to detect outliers. Apply this technique for one attribute of the dataset** "
      ]
    },
    {
      "cell_type": "code",
      "metadata": {
        "id": "hEfZBEufDNus",
        "outputId": "6af7fa13-a5f3-43b6-8a4e-944d879ea260",
        "colab": {
          "base_uri": "https://localhost:8080/",
          "height": 364
        }
      },
      "source": [
        "# creating a box plot for our health points\n",
        "plt.figure(figsize=(19,5))\n",
        "ax = sns.boxplot(data=df, x='Form', y='MaxHP', orient='v', palette='Blues_r')\n",
        "ax.set_title('Health points distribution')\n",
        "sns.despine(left=True, right=True, top=True, bottom=True)\n",
        "plt.show()"
      ],
      "execution_count": null,
      "outputs": [
        {
          "output_type": "display_data",
          "data": {
            "image/png": "[encoded data removed]",
            "text/plain": [
              "<Figure size 1368x360 with 1 Axes>"
            ]
          },
          "metadata": {
            "tags": [],
            "needs_background": "light"
          }
        }
      ]
    },
    {
      "cell_type": "markdown",
      "metadata": {
        "id": "1jQHXx2VbPJ3"
      },
      "source": [
        "The box plot that we just created below is very interesting: we can immediately see that most Pokemons have between 50 and 100 health points (by the way, legendary Pokemons seem to have slightly more health points that ordinary Pokemons.\n",
        "\n",
        "However, all the little dots we can see above the bulk of our box plots are outliers!\n",
        "\n",
        "Using this visualisation type therefore makes it much easier to spot any outlying value.\n",
        "\n",
        "By the way, I won't I won't be losing points for this, but I have to say that I find box plots particularly ugly. Alternatively, I much prefer violin plots, which serve the same purpose but look to me much nice. Anyway, this is all a matter of taste I guess."
      ]
    },
    {
      "cell_type": "markdown",
      "metadata": {
        "id": "xzNlR_rxCDqH"
      },
      "source": [
        "# Question 2"
      ]
    },
    {
      "cell_type": "code",
      "metadata": {
        "id": "6eqDRarb2bQn",
        "outputId": "9707aec8-6db7-4271-9e55-58c6190fd770",
        "colab": {
          "base_uri": "https://localhost:8080/",
          "height": 383
        }
      },
      "source": [
        "# a good way to see what variables we should focus on, is to use a heatmap plot\n",
        "df_model = df.loc[: , ['Stamina', 'Attack', 'Defense','MaxHP', 'Capture_rate', 'Escape_rate', 'Weight', 'Height', 'Form', 'MaxCP']]\n",
        "my_corr = df_model.corr()\n",
        "\n",
        "# plotting it\n",
        "plt.figure(figsize=(8.5,4))\n",
        "sns.heatmap(my_corr, cmap='Blues', linewidths=.5).set_title('Correlations amongst our numerical variables')\n",
        "plt.show()"
      ],
      "execution_count": null,
      "outputs": [
        {
          "output_type": "display_data",
          "data": {
            "image/png": "[encoded data removed]",
            "text/plain": [
              "<Figure size 612x288 with 2 Axes>"
            ]
          },
          "metadata": {
            "tags": [],
            "needs_background": "light"
          }
        }
      ]
    },
    {
      "cell_type": "markdown",
      "metadata": {
        "id": "hZqvWQZnbpq_"
      },
      "source": [
        "I know, I never got asked to visualise a heatmap plot. But I find that it gives a quick insights as to which values might be correlated with one another. It doesn't offer any more details of course, but I guess it gives some sort of \"general overview\"."
      ]
    },
    {
      "cell_type": "code",
      "metadata": {
        "id": "IwCRXagsPQJm",
        "outputId": "f681c378-ab97-4607-b215-d1c17ff2c60c",
        "colab": {
          "base_uri": "https://localhost:8080/",
          "height": 111
        }
      },
      "source": [
        "# and as a quick reminder this is what our dataset looks like\n",
        "df.sample(2)"
      ],
      "execution_count": null,
      "outputs": [
        {
          "output_type": "execute_result",
          "data": {
            "text/html": [
              "<div>\n",
              "<style scoped>\n",
              "    .dataframe tbody tr th:only-of-type {\n",
              "        vertical-align: middle;\n",
              "    }\n",
              "\n",
              "    .dataframe tbody tr th {\n",
              "        vertical-align: top;\n",
              "    }\n",
              "\n",
              "    .dataframe thead th {\n",
              "        text-align: right;\n",
              "    }\n",
              "</style>\n",
              "<table border=\"1\" class=\"dataframe\">\n",
              "  <thead>\n",
              "    <tr style=\"text-align: right;\">\n",
              "      <th></th>\n",
              "      <th>Name</th>\n",
              "      <th>Pokedex</th>\n",
              "      <th>Stamina</th>\n",
              "      <th>Attack</th>\n",
              "      <th>Defense</th>\n",
              "      <th>Primary</th>\n",
              "      <th>Secondary</th>\n",
              "      <th>MaxHP</th>\n",
              "      <th>Capture_rate</th>\n",
              "      <th>Escape_rate</th>\n",
              "      <th>Weight</th>\n",
              "      <th>Height</th>\n",
              "      <th>MaxCP</th>\n",
              "      <th>Generation</th>\n",
              "      <th>Form</th>\n",
              "    </tr>\n",
              "  </thead>\n",
              "  <tbody>\n",
              "    <tr>\n",
              "      <th>251</th>\n",
              "      <td>Treecko</td>\n",
              "      <td>252</td>\n",
              "      <td>120</td>\n",
              "      <td>124</td>\n",
              "      <td>94</td>\n",
              "      <td>Grass</td>\n",
              "      <td>None</td>\n",
              "      <td>106</td>\n",
              "      <td>0.20</td>\n",
              "      <td>0.10</td>\n",
              "      <td>5.0</td>\n",
              "      <td>0.51</td>\n",
              "      <td>1053</td>\n",
              "      <td>3</td>\n",
              "      <td>Ordinary</td>\n",
              "    </tr>\n",
              "    <tr>\n",
              "      <th>183</th>\n",
              "      <td>Azumarill</td>\n",
              "      <td>184</td>\n",
              "      <td>225</td>\n",
              "      <td>112</td>\n",
              "      <td>152</td>\n",
              "      <td>Water</td>\n",
              "      <td>Fairy</td>\n",
              "      <td>189</td>\n",
              "      <td>0.15</td>\n",
              "      <td>0.07</td>\n",
              "      <td>28.5</td>\n",
              "      <td>0.79</td>\n",
              "      <td>1588</td>\n",
              "      <td>2</td>\n",
              "      <td>Ordinary</td>\n",
              "    </tr>\n",
              "  </tbody>\n",
              "</table>\n",
              "</div>"
            ],
            "text/plain": [
              "          Name  Pokedex  Stamina  Attack  ...  Height MaxCP Generation      Form\n",
              "251    Treecko      252      120     124  ...    0.51  1053          3  Ordinary\n",
              "183  Azumarill      184      225     112  ...    0.79  1588          2  Ordinary\n",
              "\n",
              "[2 rows x 15 columns]"
            ]
          },
          "metadata": {
            "tags": []
          },
          "execution_count": 12
        }
      ]
    },
    {
      "cell_type": "markdown",
      "metadata": {
        "id": "GTnuSrTeFGEN"
      },
      "source": [
        "> **Select four variables of the dataset, and propose an appropriate probability model to quantify uncertainty of each variable**\n",
        "\n",
        "The 4 variables we are going to work with are:\n",
        "*   \"*Form*\": this is value that I want to predict (y). It consists of 2 possible discrete values: 0,1 (Right now it shows \"legendary\", \"ordinary\" but we will have to convert this data to 0 and 1). But we are only interested in one value: \"legendary\" pokemons (value 1).\n",
        "\n",
        "=> Discrete probability distribution (probability mass function): **Bernoulli** (as this is a boolean True / False prediction).\n",
        "\n",
        "*   \"*Capture_rate*\": this is one of my X values. It is a continuous value, which expresses the chances of catchin a Pokemon.\n",
        "\n",
        "=> Continuous probability distribution (probability density function): **Normal**\n",
        "\n",
        "*   \"*Generation*\": this is another one of my X values. It is this time a discrete value, which expresses which generation a Pokemon belongs to. All values are positive, and are ranged between 1 and 5. This is very similar to the column ['carb'] in the *Mtcars* dataset.\n",
        "\n",
        "=> Discrete probability distribution (probability mass function): **Binomial**\n",
        "\n",
        "*   \"*Escape_rate*\": this is another one of my X values. It is again a continuous value, which expresses the eluding capacities of a Pokemon\n",
        "\n",
        "=> Continuous probability distribution (probability density function): **Multinomial**"
      ]
    },
    {
      "cell_type": "markdown",
      "metadata": {
        "id": "3E9pd7yQFHsB"
      },
      "source": [
        "> **For each model in part (a), estimate the parameters of model** (we'll be treating this question and the next one together)"
      ]
    },
    {
      "cell_type": "markdown",
      "metadata": {
        "id": "4PEWXpO4FJns"
      },
      "source": [
        "> **Express the way in which each model can be used for the predictive analytics, then find the prediction for each attribute**"
      ]
    },
    {
      "cell_type": "code",
      "metadata": {
        "id": "Y8f5uM81VwLN",
        "outputId": "1b3de43a-3aa7-4f19-d2d5-42f94090d5de",
        "colab": {
          "base_uri": "https://localhost:8080/"
        }
      },
      "source": [
        "# to predict the legendary Pokemons in the column 'Form' we first have to encode our labels. Long story short, we can not\n",
        "# do this with categorical data. As this column only contains two distinct values, we can replace them with 0 and 1\n",
        "from sklearn.preprocessing import LabelEncoder\n",
        "my_encoding = LabelEncoder()\n",
        "df['Bernoulli'] = my_encoding.fit_transform(df['Form'])\n",
        "\n",
        "# model using Bernoulli with parameters p (inspired from Shahram's code in R, as the Counter module in Python works like 'table; in R)\n",
        "my_x = df.Bernoulli\n",
        "my_tab = Counter(df.Bernoulli)\n",
        "my_pred = my_tab[0]/len(my_x)\n",
        "print('The probability to encounter a Legendary pokemon is', my_pred)"
      ],
      "execution_count": null,
      "outputs": [
        {
          "output_type": "stream",
          "text": [
            "The probability to encounter a Legendary pokemon is 0.060092449922958396\n"
          ],
          "name": "stdout"
        }
      ]
    },
    {
      "cell_type": "code",
      "metadata": {
        "id": "_2dIHwkFblGJ",
        "outputId": "0e883805-9645-48bf-ee99-262d3cada628",
        "colab": {
          "base_uri": "https://localhost:8080/"
        }
      },
      "source": [
        "# for the 'Catch_rate' continuous column, we're going for normal distribution, using scipy's norm\n",
        "from scipy.stats import norm\n",
        "my_x = df.Capture_rate\n",
        "my_mean = my_x.mean()\n",
        "my_sigma = my_x.std()\n",
        "my_pred = norm.rvs(size=len(my_x), loc=my_mean, scale=my_sigma)\n",
        "\n",
        "#showing the first 10 results only, otherwise it takes quite a bit of space\n",
        "print(my_pred[:10])"
      ],
      "execution_count": null,
      "outputs": [
        {
          "output_type": "stream",
          "text": [
            "[0.40427315 0.24012192 0.37568369 0.28946542 0.29842371 0.05005761\n",
            " 0.23144074 0.39464542 0.13121898 0.04588746]\n"
          ],
          "name": "stdout"
        }
      ]
    },
    {
      "cell_type": "code",
      "metadata": {
        "id": "A-oxf_b5hhj3",
        "outputId": "12e4ab5c-b24e-4f6c-d06f-054b027554a6",
        "colab": {
          "base_uri": "https://localhost:8080/"
        }
      },
      "source": [
        "# now onto the 'Generation' column, which has discrete values from 1 to 5, so Binomial model\n",
        "my_n = max(df.Generation)\n",
        "my_phat = sum(df.Generation) / (my_n * len(df.Generation))\n",
        "print('The probability of connection of each node to the central system is', my_phat)\n",
        "\n",
        "# finally showing the first 10 predictions, taking inspiration from your video on R :)\n",
        "from scipy.stats import binom\n",
        "print(binom.rvs(my_n, my_phat, size=1000)[:10])"
      ],
      "execution_count": null,
      "outputs": [
        {
          "output_type": "stream",
          "text": [
            "The probability of connection of each node to the central system is 0.6104776579352851\n",
            "[3 3 2 3 2 5 2 4 5 5]\n"
          ],
          "name": "stdout"
        }
      ]
    },
    {
      "cell_type": "code",
      "metadata": {
        "id": "1anfzx8mpqmB",
        "outputId": "e31e1933-65b7-45dd-bda2-f73f1fa14a80",
        "colab": {
          "base_uri": "https://localhost:8080/"
        }
      },
      "source": [
        "# finally, multinomial model for the last column, 'Escape_rate' which is made of continuous values\n",
        "my_x = df.Escape_rate\n",
        "my_mean = my_x.mean()\n",
        "my_sigma = my_x.std()\n",
        "my_pred = norm.rvs(size=len(my_x), loc=my_mean, scale=my_sigma)\n",
        "\n",
        "#showing the first 10 results, otherwise it takes quite a bit of space\n",
        "print(my_pred[:10])"
      ],
      "execution_count": null,
      "outputs": [
        {
          "output_type": "stream",
          "text": [
            "[ 0.0205046   0.13675199  0.08797067 -0.00103585  0.0705428  -0.01098596\n",
            "  0.12071871  0.12048389  0.12073196  0.03018878]\n"
          ],
          "name": "stdout"
        }
      ]
    },
    {
      "cell_type": "markdown",
      "metadata": {
        "id": "6h9jTbxFdHHj"
      },
      "source": [
        "I will be very honest: this part is by far the most difficult for me. Getting what I want in Python isn't an issue (I'm not saying I'm good, but just that I can things done). However, I do not have a statistical mindset.\n",
        "\n",
        "The [official documentation for Scipy.stats](https://docs.scipy.org/doc/scipy/reference/stats.html) is really good I have to say, and has helped me a lot. You can see on the right side a table of content with different models for all sorts of values. I spent an entire afternoon on their website, and got a bit more into stats.\n",
        "\n",
        "What I understand from here is that depending on the type of values we have, we are using an ensemble of statistical models to predict an outcome.\n",
        "\n",
        "The problem I have is, this is the only part in this CA where I had to really look at Shahram's code, chunk it into several bits, and try to understand how it aligned against the slides he shared with us, and do some research on the internet. Not to steal any code, but simply to understand what I was doing, and why I was doing it.\n",
        "\n",
        "I purchased [this book](https://www.amazon.co.uk/Practical-Statistics-Data-Scientists-Essential/dp/149207294X/ref=sr_1_5?dchild=1&keywords=statistics&qid=1605218416&sr=8-5) in early October, but I'm finding it really difficult to follow at the moment. I will continue though and try to improve, as this is quite interesting!"
      ]
    },
    {
      "cell_type": "markdown",
      "metadata": {
        "id": "mZIUDK_DCLmV"
      },
      "source": [
        "# Question 3"
      ]
    },
    {
      "cell_type": "markdown",
      "metadata": {
        "id": "NiJpYbPeFNlW"
      },
      "source": [
        "> **Suggest an appropriate GLM to model ouput to input variables**\n",
        "\n",
        "As we want to stay close to the example used in class (the famous \"Iris\" dataset), we're going to go for a classification model, trying to use Pokemons attributes / stats to determine their form (\"legendary\" or \"ordinary\"). Our main options are:\n",
        "\n",
        "*   Multiple linear regression\n",
        "*   Random forest\n",
        "*   Support vector machine\n",
        "*   Neural networks\n",
        "\n",
        "I found a great article [here](https://www.edureka.co/blog/classification-algorithms/) (on Edureka), and I will be going for a random forest model. The reason for this is quite simple:\n",
        "\n",
        "*   My dataset is rather small, and we'll only be using 4 columns / series to predict a binary output. The main recommended models for this type of dataset are random forest and support vector machine.\n",
        "*   I have already used a support vector machine model when predicting the same dataset in R. So, we're going to go for random forest this time, and compare our results!\n"
      ]
    },
    {
      "cell_type": "markdown",
      "metadata": {
        "id": "KS33HWGMFORu"
      },
      "source": [
        "> **Split the dataset into 80% as a trainset and 20% testset, then model the trainset by fitting your proposed GLM**"
      ]
    },
    {
      "cell_type": "code",
      "metadata": {
        "id": "l60y1SL4H4US",
        "outputId": "fd6cdbdb-77e4-4196-8927-a901fe483f95",
        "colab": {
          "base_uri": "https://localhost:8080/",
          "height": 165
        }
      },
      "source": [
        "# first let's import our ML libraries. We'll be using Scikit-Learn\n",
        "import statsmodels.api as sm\n",
        "from sklearn.ensemble import RandomForestClassifier\n",
        "from sklearn import svm\n",
        "from sklearn.svm import SVC\n",
        "from sklearn.neural_network import MLPClassifier\n",
        "from sklearn.metrics import confusion_matrix, classification_report, accuracy_score\n",
        "from sklearn.preprocessing import StandardScaler, LabelEncoder\n",
        "from sklearn.model_selection import train_test_split\n",
        "\n",
        "# as a reminder, our dataset looks like this\n",
        "df.head(2)"
      ],
      "execution_count": null,
      "outputs": [
        {
          "output_type": "stream",
          "text": [
            "/usr/local/lib/python3.6/dist-packages/statsmodels/tools/_testing.py:19: FutureWarning: pandas.util.testing is deprecated. Use the functions in the public API at pandas.testing instead.\n",
            "  import pandas.util.testing as tm\n"
          ],
          "name": "stderr"
        },
        {
          "output_type": "execute_result",
          "data": {
            "text/html": [
              "<div>\n",
              "<style scoped>\n",
              "    .dataframe tbody tr th:only-of-type {\n",
              "        vertical-align: middle;\n",
              "    }\n",
              "\n",
              "    .dataframe tbody tr th {\n",
              "        vertical-align: top;\n",
              "    }\n",
              "\n",
              "    .dataframe thead th {\n",
              "        text-align: right;\n",
              "    }\n",
              "</style>\n",
              "<table border=\"1\" class=\"dataframe\">\n",
              "  <thead>\n",
              "    <tr style=\"text-align: right;\">\n",
              "      <th></th>\n",
              "      <th>Name</th>\n",
              "      <th>Pokedex</th>\n",
              "      <th>Stamina</th>\n",
              "      <th>Attack</th>\n",
              "      <th>Defense</th>\n",
              "      <th>Primary</th>\n",
              "      <th>Secondary</th>\n",
              "      <th>MaxHP</th>\n",
              "      <th>Capture_rate</th>\n",
              "      <th>Escape_rate</th>\n",
              "      <th>Weight</th>\n",
              "      <th>Height</th>\n",
              "      <th>MaxCP</th>\n",
              "      <th>Generation</th>\n",
              "      <th>Form</th>\n",
              "      <th>Bernoulli</th>\n",
              "    </tr>\n",
              "  </thead>\n",
              "  <tbody>\n",
              "    <tr>\n",
              "      <th>0</th>\n",
              "      <td>Bulbasaur</td>\n",
              "      <td>1</td>\n",
              "      <td>128</td>\n",
              "      <td>118</td>\n",
              "      <td>111</td>\n",
              "      <td>Grass</td>\n",
              "      <td>Poison</td>\n",
              "      <td>113</td>\n",
              "      <td>0.2</td>\n",
              "      <td>0.10</td>\n",
              "      <td>6.9</td>\n",
              "      <td>0.7</td>\n",
              "      <td>1115</td>\n",
              "      <td>1</td>\n",
              "      <td>Ordinary</td>\n",
              "      <td>1</td>\n",
              "    </tr>\n",
              "    <tr>\n",
              "      <th>1</th>\n",
              "      <td>Ivysaur</td>\n",
              "      <td>2</td>\n",
              "      <td>155</td>\n",
              "      <td>151</td>\n",
              "      <td>143</td>\n",
              "      <td>Grass</td>\n",
              "      <td>Poison</td>\n",
              "      <td>134</td>\n",
              "      <td>0.1</td>\n",
              "      <td>0.07</td>\n",
              "      <td>13.0</td>\n",
              "      <td>1.0</td>\n",
              "      <td>1699</td>\n",
              "      <td>1</td>\n",
              "      <td>Ordinary</td>\n",
              "      <td>1</td>\n",
              "    </tr>\n",
              "  </tbody>\n",
              "</table>\n",
              "</div>"
            ],
            "text/plain": [
              "        Name  Pokedex  Stamina  Attack  ...  MaxCP Generation      Form  Bernoulli\n",
              "0  Bulbasaur        1      128     118  ...   1115          1  Ordinary          1\n",
              "1    Ivysaur        2      155     151  ...   1699          1  Ordinary          1\n",
              "\n",
              "[2 rows x 16 columns]"
            ]
          },
          "metadata": {
            "tags": []
          },
          "execution_count": 37
        }
      ]
    },
    {
      "cell_type": "code",
      "metadata": {
        "id": "7Yp1dv5uYJnw",
        "outputId": "6fae17e6-ddc9-43ba-bfa9-54327fe1e7fd",
        "colab": {
          "base_uri": "https://localhost:8080/"
        }
      },
      "source": [
        "# let's now create a sub dataframe for our numerical input X values, and our categorical y output value \n",
        "df_model = df.loc[: , ['Stamina', 'Attack', 'Defense','MaxHP', 'Capture_rate', 'Escape_rate', 'Weight', 'Height', 'Form', 'MaxCP']]\n",
        "\n",
        "\"\"\"\n",
        "In the 2 Udemy courses I took, the first thing we did was to encode our categorical y data\n",
        "For this, we can either use LabelEncoder() or OneHotEncoder from ScikitLearn\n",
        "There's a lot more information on those techniques here https://pbpython.com/categorical-encoding.html\n",
        "\"\"\"\n",
        "\n",
        "# transforming our Quality column into numerical values, just like we did a few cells above\n",
        "my_encoding = LabelEncoder()\n",
        "df_model['Form'] = my_encoding.fit_transform(df_model['Form'])\n",
        "\n",
        "# making sure it worked\n",
        "df_model['Form'].value_counts()"
      ],
      "execution_count": null,
      "outputs": [
        {
          "output_type": "execute_result",
          "data": {
            "text/plain": [
              "1    610\n",
              "0     39\n",
              "Name: Form, dtype: int64"
            ]
          },
          "metadata": {
            "tags": []
          },
          "execution_count": 38
        }
      ]
    },
    {
      "cell_type": "code",
      "metadata": {
        "id": "LZu6lpB5OmgD"
      },
      "source": [
        "\"\"\"\n",
        "In the 2 course I just mentioned, we then separated our X and y variables\n",
        "This is confirmed in The Machine Learning Pocket Guide, in the chapter dedicated to pre-processing\n",
        "# https://www.amazon.co.uk/Machine-Learning-Pocket-Reference-Structured/dp/1492047546/ref=sr_1_2?dchild=1&keywords=machine+learning+pocket&qid=1605218981&sr=8-2\n",
        "\"\"\"\n",
        "# now separating the dataset as response variable and feature variable (always capital X, minor y)\n",
        "X = df_model.drop('Form', axis=1) # we take all our columns except Output\n",
        "y = df_model['Form']"
      ],
      "execution_count": null,
      "outputs": []
    },
    {
      "cell_type": "code",
      "metadata": {
        "id": "BywjQhPcOO0Y"
      },
      "source": [
        "\"\"\"\n",
        "Finally, we can split our training and testing data. \n",
        "The 0.2 value for test_size means 20%\n",
        "Why did I pick a value of 42 for our random_state? Because this is the officially recommended value\n",
        "https://scikit-learn.org/stable/modules/generated/sklearn.model_selection.train_test_split.html\n",
        "\"\"\"\n",
        "# splitting our data into train / test\n",
        "X_train, X_test, y_train, y_test = train_test_split(X, y, test_size=0.2, random_state= 42)"
      ],
      "execution_count": null,
      "outputs": []
    },
    {
      "cell_type": "code",
      "metadata": {
        "id": "V4r6mJWcPH6q"
      },
      "source": [
        "\"\"\"\n",
        "The next very important step is to scale our data. We do this because ML models can be biased towards\n",
        "higher values. Example: imagine we have 2 columns. One ranges from 0 to 8, the other one from 0 to 500\n",
        "Our model might be biased towards giving more importance to the second column\n",
        "Scaling means that all our data will now be between a -1 and 1 range\n",
        "More on this here: https://machinelearningmastery.com/how-to-improve-neural-network-stability-and-modeling-performance-with-data-scaling/\n",
        "\"\"\"\n",
        "# scaling our data for optimised results\n",
        "my_standscal = StandardScaler()\n",
        "X_train = my_standscal.fit_transform(X_train)\n",
        "X_test = my_standscal.transform(X_test)"
      ],
      "execution_count": null,
      "outputs": []
    },
    {
      "cell_type": "code",
      "metadata": {
        "id": "XftLI0vGPMiE",
        "outputId": "e808d9cf-0502-4805-e736-dc509b3c5e0e",
        "colab": {
          "base_uri": "https://localhost:8080/"
        }
      },
      "source": [
        "# showing the first 5 scaled data, to illustrate what I wrote above\n",
        "X_train[:5]"
      ],
      "execution_count": null,
      "outputs": [
        {
          "output_type": "execute_result",
          "data": {
            "text/plain": [
              "array([[-0.87050571, -1.48355358, -0.16877158, -0.85967029,  1.45009092,\n",
              "         0.25749361, -0.61145175, -0.68934992, -1.20033838],\n",
              "       [ 0.07809461, -0.76264614, -0.41453014,  0.06944969,  0.02114509,\n",
              "        -0.25322938, -0.40931873, -0.33058381, -0.66200153],\n",
              "       [-0.67647383, -0.09448803,  0.01554735, -0.66838088,  1.45009092,\n",
              "         0.08725261, -0.50070866, -0.5053673 , -0.30126033],\n",
              "       [-0.28841006, -0.99122655, -0.98796679, -0.28580207,  0.87851259,\n",
              "         0.08725261, -0.36631171, -0.33978294, -1.00276321],\n",
              "       [ 1.39319961,  1.80448765, -0.53740942,  1.38114849, -0.8362224 ,\n",
              "        -0.25322938,  0.37448429,  0.12937275,  1.3315098 ]])"
            ]
          },
          "metadata": {
            "tags": []
          },
          "execution_count": 42
        }
      ]
    },
    {
      "cell_type": "markdown",
      "metadata": {
        "id": "1xIWCsVvFOqB"
      },
      "source": [
        "> **Specify the significant variables on the output variable at the level of 𝛼=0.05 and explore the related hypotheses test. Estimate the parameters of your model.**"
      ]
    },
    {
      "cell_type": "code",
      "metadata": {
        "id": "NMSO5UfmFwNm",
        "outputId": "dbbd2168-4bbb-4a52-dcd1-dc23312d6809",
        "colab": {
          "base_uri": "https://localhost:8080/"
        }
      },
      "source": [
        "# we take our output y, our input X, and we choose a family (here binomial).\n",
        "my_model = sm.GLM(y, X, family=sm.families.Binomial())\n",
        "my_results = my_model.fit()\n",
        "print(my_results.summary())"
      ],
      "execution_count": null,
      "outputs": [
        {
          "output_type": "stream",
          "text": [
            "                 Generalized Linear Model Regression Results                  \n",
            "==============================================================================\n",
            "Dep. Variable:                   Form   No. Observations:                  649\n",
            "Model:                            GLM   Df Residuals:                      640\n",
            "Model Family:                Binomial   Df Model:                            8\n",
            "Link Function:                  logit   Scale:                          1.0000\n",
            "Method:                          IRLS   Log-Likelihood:                    nan\n",
            "Date:                Thu, 12 Nov 2020   Deviance:                          nan\n",
            "Time:                        22:17:09   Pearson chi2:                     186.\n",
            "No. Iterations:                   100                                         \n",
            "Covariance Type:            nonrobust                                         \n",
            "================================================================================\n",
            "                   coef    std err          z      P>|z|      [0.025      0.975]\n",
            "--------------------------------------------------------------------------------\n",
            "Stamina         -0.7687      0.507     -1.515      0.130      -1.763       0.226\n",
            "Attack           0.0088      0.035      0.251      0.801      -0.060       0.078\n",
            "Defense         -0.0214      0.019     -1.121      0.262      -0.059       0.016\n",
            "MaxHP            0.9774      0.623      1.570      0.116      -0.243       2.197\n",
            "Capture_rate     0.1113      1.255      0.089      0.929      -2.349       2.571\n",
            "Escape_rate     39.8680     10.815      3.686      0.000      18.672      61.064\n",
            "Weight          -0.0015      0.002     -0.633      0.527      -0.006       0.003\n",
            "Height           0.0168      0.220      0.076      0.939      -0.414       0.448\n",
            "MaxCP           -0.0031      0.003     -1.196      0.232      -0.008       0.002\n",
            "================================================================================\n"
          ],
          "name": "stdout"
        },
        {
          "output_type": "stream",
          "text": [
            "/usr/local/lib/python3.6/dist-packages/statsmodels/genmod/families/family.py:890: RuntimeWarning: invalid value encountered in true_divide\n",
            "  n_endog_mu = self._clean((1. - endog) / (1. - mu))\n",
            "/usr/local/lib/python3.6/dist-packages/statsmodels/genmod/families/family.py:942: RuntimeWarning: divide by zero encountered in true_divide\n",
            "  special.gammaln(n - y + 1) + y * np.log(mu / (1 - mu)) +\n",
            "/usr/local/lib/python3.6/dist-packages/statsmodels/genmod/families/family.py:943: RuntimeWarning: divide by zero encountered in log\n",
            "  n * np.log(1 - mu)) * var_weights\n",
            "/usr/local/lib/python3.6/dist-packages/statsmodels/genmod/families/family.py:943: RuntimeWarning: invalid value encountered in add\n",
            "  n * np.log(1 - mu)) * var_weights\n"
          ],
          "name": "stderr"
        }
      ]
    },
    {
      "cell_type": "markdown",
      "metadata": {
        "id": "nR_gR5iEhTQI"
      },
      "source": [
        "Ok, this is really interesting. I had never heard of generalized linear models before starting Shahram's classes!\n",
        "\n",
        "I found about Statsmodel in my [Machine Learning Pocket Reference](https://www.amazon.co.uk/Machine-Learning-Pocket-Reference-Structured/dp/1492047546), and then got more familiar with how it works through their website. What I found a bit confusing, is that they used some very cryptic terms like [Endog / Exog](https://www.statsmodels.org/stable/endog_exog.html) to actually refer to y and X.\n",
        "\n",
        "Anyway, **the significant variables on the output variable at the level of 𝛼=0.05** seem to be:\n",
        "*   Attack: 0.0088\n",
        "*   Defense: 0.0214\n",
        "*   Weight: 0.0015\n",
        "*   Height: 0.0168\n"
      ]
    },
    {
      "cell_type": "markdown",
      "metadata": {
        "id": "N5tE_qBEFO2U"
      },
      "source": [
        "> **Predict the output of the test dataset using the trained model. And provide the functional form of the optimal predictive model**"
      ]
    },
    {
      "cell_type": "code",
      "metadata": {
        "id": "NP_zPL9sPS1N"
      },
      "source": [
        "\"\"\"\n",
        "This is the easiest part, and it'll only take a few lines of code. When we use different models at a later stage,\n",
        "we'll keep things as easy as this\n",
        "To be completely transparent, I followed the official guidelines that can be found here\n",
        "https://scikit-learn.org/stable/modules/generated/sklearn.ensemble.RandomForestRegressor.html\n",
        "\"\"\"\n",
        "# building our random forest classifier, using the following 3 steps: calling the model, fitting the model, predicting the model\n",
        "my_randforest = RandomForestClassifier(n_estimators= 200)\n",
        "my_randforest.fit(X_train, y_train) # using the TRAIN data\n",
        "my_predrandforest = my_randforest.predict(X_test) # using the TEST data this time"
      ],
      "execution_count": null,
      "outputs": []
    },
    {
      "cell_type": "code",
      "metadata": {
        "id": "4-EwxGv9PWe3",
        "outputId": "beb1892d-b0dd-461b-feed-64d8eb720f98",
        "colab": {
          "base_uri": "https://localhost:8080/"
        }
      },
      "source": [
        "\"\"\"\n",
        "This is the result of our TRAIN data.\n",
        "Why is it showing as 0 or 1 and not 'legendary' and 'ordinary'? Because we encoded our data\n",
        "earlier on using LabelEncoder()\n",
        "\"\"\"\n",
        "# showing the result\n",
        "my_predrandforest[:5]"
      ],
      "execution_count": null,
      "outputs": [
        {
          "output_type": "execute_result",
          "data": {
            "text/plain": [
              "array([1, 1, 1, 1, 1])"
            ]
          },
          "metadata": {
            "tags": []
          },
          "execution_count": 45
        }
      ]
    },
    {
      "cell_type": "markdown",
      "metadata": {
        "id": "OgvWf51LFPiA"
      },
      "source": [
        "> **Propose the appropriate measure of performance to evaluate the model and compute it for your derived model**"
      ]
    },
    {
      "cell_type": "code",
      "metadata": {
        "id": "KcFN9qi6Paek",
        "outputId": "77e7c1db-5ed2-4296-a5b8-5f25a6cb477e",
        "colab": {
          "base_uri": "https://localhost:8080/"
        }
      },
      "source": [
        "\"\"\"\n",
        "How do we see how our model performed?\n",
        "When I imported our Scikit Learn libraries earlier, I added the following 2 modules:\n",
        "classification_report, confusion_matrix\n",
        "How they work: they compare 2 arguments: the results of our TEST data + the results of our TRAIN data\n",
        "I found some very clear explanations on how to interpret the report here\n",
        "https://datascience.stackexchange.com/questions/64441/how-to-interpret-classification-report-of-scikit-learn\n",
        "\"\"\"\n",
        "# seeing how the model performed\n",
        "print( classification_report(y_test, my_predrandforest) )\n",
        "print( confusion_matrix(y_test, my_predrandforest) )"
      ],
      "execution_count": null,
      "outputs": [
        {
          "output_type": "stream",
          "text": [
            "              precision    recall  f1-score   support\n",
            "\n",
            "           0       0.83      0.62      0.71         8\n",
            "           1       0.98      0.99      0.98       122\n",
            "\n",
            "    accuracy                           0.97       130\n",
            "   macro avg       0.90      0.81      0.85       130\n",
            "weighted avg       0.97      0.97      0.97       130\n",
            "\n",
            "[[  5   3]\n",
            " [  1 121]]\n"
          ],
          "name": "stdout"
        }
      ]
    },
    {
      "cell_type": "markdown",
      "metadata": {
        "id": "s8qe4eEkknfI"
      },
      "source": [
        "Right, so our accuracy score is 97%\n",
        "\n",
        "Before we dig into the results, the initial question we tried to answer was: \"*is this Pokemon a legendary Pokemon or not?*\"\n",
        "\n",
        "What we can now see here are our precision and recall scores:\n",
        "*   **Precision**: measures how accurate our positive predictions were\n",
        "*   **Recall**: measures what fraction of the positives our model identified\n",
        "*   **f1**: combines precision and recall\n",
        "\n",
        "These scores are frequently referred to as the *harmonic mean* of precision and recall, and I found the [following article](https://medium.com/@kohlishivam5522/understanding-a-classification-report-for-your-machine-learning-model-88815e2ce397) really interesting."
      ]
    },
    {
      "cell_type": "markdown",
      "metadata": {
        "id": "tzX7Vsa_Oy5G"
      },
      "source": [
        "# Extra: trying other classifiers\n",
        "\n",
        "We can now repeat the exact same exercise, using different classifiers.\n",
        "\n",
        "As we have already pre-processed our data (encoding, scaling, test/train splitting), using different classifiers will only take a few extra lines of code.\n",
        "\n",
        "Here are the classifications sets I have chosen:\n",
        "\n",
        "1.   [Support Vector Machine](https://scikit-learn.org/stable/modules/svm.html): good news, no parameters are required :)\n",
        "2.   [Multi-layer Perceptron](https://scikit-learn.org/stable/modules/generated/sklearn.neural_network.MLPClassifier.html) (neural network): two important parameters are required: the number of columns (layers) in our X dataset. I had an error message trying to run the classifier without specifying the number of max_iter, so I added in the default value (200)\n",
        "\n",
        "**Note**: I have made no adjustment to any of these models, and just followed the general instructions on Scikit Learn's home page. There must be many ways to improve the accuracy of these models, adding in extra parameters."
      ]
    },
    {
      "cell_type": "code",
      "metadata": {
        "id": "z4bQna8KO7qc"
      },
      "source": [
        "\"\"\"\n",
        "Starting with a support vector machine model\n",
        "Why? Because that's what I used in R\n",
        "\"\"\"\n",
        "\n",
        "# building our svm model, using the same 3 steps again: calling the model, fitting the model, predicting the model\n",
        "my_supportvectorm = svm.SVC()\n",
        "my_supportvectorm.fit(X_train, y_train)\n",
        "my_predsupportvectorm = my_supportvectorm.predict(X_test)"
      ],
      "execution_count": null,
      "outputs": []
    },
    {
      "cell_type": "code",
      "metadata": {
        "id": "UQqsTDHdtLIL",
        "outputId": "85dcfce2-f684-4a64-c96e-e7decf500e04",
        "colab": {
          "base_uri": "https://localhost:8080/"
        }
      },
      "source": [
        "# and just like before, we can see how this model performed\n",
        "print( classification_report(y_test, my_predsupportvectorm) )\n",
        "print( confusion_matrix(y_test, my_predsupportvectorm) )"
      ],
      "execution_count": null,
      "outputs": [
        {
          "output_type": "stream",
          "text": [
            "              precision    recall  f1-score   support\n",
            "\n",
            "           0       0.43      0.38      0.40         8\n",
            "           1       0.96      0.97      0.96       122\n",
            "\n",
            "    accuracy                           0.93       130\n",
            "   macro avg       0.69      0.67      0.68       130\n",
            "weighted avg       0.93      0.93      0.93       130\n",
            "\n",
            "[[  3   5]\n",
            " [  4 118]]\n"
          ],
          "name": "stdout"
        }
      ]
    },
    {
      "cell_type": "code",
      "metadata": {
        "id": "0gV_F4VStLGD",
        "outputId": "7f86169f-9492-498e-8832-6833f727f609",
        "colab": {
          "base_uri": "https://localhost:8080/"
        }
      },
      "source": [
        "# building our neural network model\n",
        "my_neuralnetw = MLPClassifier(hidden_layer_sizes=(9,9,9), max_iter=200) # I picked 6 layers because we have 6 columns as X features\n",
        "my_neuralnetw.fit(X_train, y_train)\n",
        "my_predneuralnetw = my_neuralnetw.predict(X_test)"
      ],
      "execution_count": null,
      "outputs": [
        {
          "output_type": "stream",
          "text": [
            "/usr/local/lib/python3.6/dist-packages/sklearn/neural_network/_multilayer_perceptron.py:571: ConvergenceWarning: Stochastic Optimizer: Maximum iterations (200) reached and the optimization hasn't converged yet.\n",
            "  % self.max_iter, ConvergenceWarning)\n"
          ],
          "name": "stderr"
        }
      ]
    },
    {
      "cell_type": "code",
      "metadata": {
        "id": "gXJsuO--uOez",
        "outputId": "f6edae15-30cd-48fd-c577-90f63c5b2de5",
        "colab": {
          "base_uri": "https://localhost:8080/",
          "height": 204
        }
      },
      "source": [
        "# and for the last time, we can see how this new model performed\n",
        "print( classification_report(y_test, my_predneuralnetw) )\n",
        "print( confusion_matrix(y_test, my_predneuralnetw) )"
      ],
      "execution_count": null,
      "outputs": [
        {
          "output_type": "stream",
          "text": [
            "              precision    recall  f1-score   support\n",
            "\n",
            "           0       0.50      0.62      0.56         8\n",
            "           1       0.97      0.96      0.97       122\n",
            "\n",
            "    accuracy                           0.94       130\n",
            "   macro avg       0.74      0.79      0.76       130\n",
            "weighted avg       0.95      0.94      0.94       130\n",
            "\n",
            "[[  5   3]\n",
            " [  5 117]]\n"
          ],
          "name": "stdout"
        }
      ]
    },
    {
      "cell_type": "markdown",
      "metadata": {
        "id": "zS5dx5WwlKG5"
      },
      "source": [
        "It's interesting to see that my Random Forest, SVM, and Neural Networks classifiers returned slightly different accuracy scores.\n",
        "\n",
        "A next step for me would be to learn how to tune these models, how to dig into some lower level parameters and try to improve the score by adjusting some of the in-built functions.\n",
        "\n",
        "One thing I am looking forward to doing over the next semesters, are Time Series predictions. More specifically I have been hearing about LSTM models for a while (using Keras) and I'm very excited to start seeing how they work."
      ]
    },
    {
      "cell_type": "markdown",
      "metadata": {
        "id": "JRp3gAQJn8M8"
      },
      "source": [
        "# **Conclusion**: \n",
        "\n",
        "I hope you enjoyed following this Colab as much as I did writing it! Thank you for your time and your patience :)"
      ]
    }
  ]
}